{
 "cells": [
  {
   "cell_type": "code",
   "id": "initial_id",
   "metadata": {
    "collapsed": true,
    "ExecuteTime": {
     "end_time": "2024-08-19T17:12:35.341956Z",
     "start_time": "2024-08-19T17:12:35.333201Z"
    }
   },
   "source": [
    "# Exercise:\n",
    "# Fibonacci series: [0, 1, 1, 2, 3, 5, 8, 13, ...]\n",
    "# create a function that reports the fibonacci series for an input number N\n",
    "\n",
    "def my_fibonacci(n):\n",
    "    result = [0, 1]\n",
    "    for i in range(n - 2):\n",
    "        result.append(sum(result[-2:]))\n",
    "    return result\n",
    "\n",
    "print(my_fibonacci(17))"
   ],
   "outputs": [
    {
     "name": "stdout",
     "output_type": "stream",
     "text": [
      "[0, 1, 1, 2, 3, 5, 8, 13, 21, 34, 55, 89, 144, 233, 377, 610, 987]\n"
     ]
    }
   ],
   "execution_count": 4
  }
 ],
 "metadata": {
  "kernelspec": {
   "display_name": "Python 3",
   "language": "python",
   "name": "python3"
  },
  "language_info": {
   "codemirror_mode": {
    "name": "ipython",
    "version": 2
   },
   "file_extension": ".py",
   "mimetype": "text/x-python",
   "name": "python",
   "nbconvert_exporter": "python",
   "pygments_lexer": "ipython2",
   "version": "2.7.6"
  }
 },
 "nbformat": 4,
 "nbformat_minor": 5
}
