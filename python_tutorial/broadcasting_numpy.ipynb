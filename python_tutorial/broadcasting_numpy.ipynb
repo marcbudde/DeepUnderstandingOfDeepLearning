{
 "cells": [
  {
   "cell_type": "code",
   "id": "initial_id",
   "metadata": {
    "collapsed": true
   },
   "source": "import numpy as np",
   "outputs": [],
   "execution_count": null
  },
  {
   "metadata": {},
   "cell_type": "code",
   "source": [
    "x = np.array([ [1,2,3],\n",
    "               [2,3,4],\n",
    "               [3,4,5],\n",
    "               [4,5,6] ])\n",
    "\n",
    "w = np.array([10,20,30])\n",
    "\n",
    "print(x)\n",
    "print()\n",
    "print(w)"
   ],
   "id": "7d4287ff635435a7",
   "outputs": [],
   "execution_count": null
  },
  {
   "metadata": {},
   "cell_type": "code",
   "source": [
    "y = np.zeros(x.shape)\n",
    "\n",
    "for i in range(x.shape[0]):\n",
    "    y[i,:] = x[i,:] + w\n",
    "\n",
    "y"
   ],
   "id": "6f4636558f1a89e",
   "outputs": [],
   "execution_count": null
  },
  {
   "metadata": {},
   "cell_type": "code",
   "source": [
    "# broadcasting\n",
    "z = x + w\n",
    "\n",
    "print(z)\n",
    "print()\n",
    "print(y)"
   ],
   "id": "f82a71b42164ceea",
   "outputs": [],
   "execution_count": null
  },
  {
   "metadata": {},
   "cell_type": "code",
   "source": [
    "v = np.array([-1,0,1,0], ndmin=2).T\n",
    "# v = np.array([[-1],[0],[1],[0]])\n",
    "print(x)\n",
    "print(v)\n",
    "x*v"
   ],
   "id": "f682e7e06e6b097c",
   "outputs": [],
   "execution_count": null
  },
  {
   "metadata": {
    "ExecuteTime": {
     "end_time": "2024-08-20T09:48:01.636195Z",
     "start_time": "2024-08-20T09:48:01.626699Z"
    }
   },
   "cell_type": "code",
   "source": [
    "# Exercise:\n",
    "# 1) create a vector of integers from 0 to 8 (v)\n",
    "# 2) reshape v into a three by three matrix (M) (np.reshape)\n",
    "# 3) repeat M into a 9x3 (C) (np.tile)\n",
    "# 4) broadcast-multiply C with v (B)\n",
    "v = np.array([0,1,2,3,4,5,6,7,8])\n",
    "print(v)\n",
    "print()\n",
    "M = np.reshape(v, (3,3))\n",
    "print(M)\n",
    "print()\n",
    "C = np.tile(M, (3,1))\n",
    "print(C)\n",
    "print()\n",
    "\n",
    "B = C * np.array(v, ndmin=2).T\n",
    "B"
   ],
   "id": "7c3df965b545c7a0",
   "outputs": [
    {
     "name": "stdout",
     "output_type": "stream",
     "text": [
      "[0 1 2 3 4 5 6 7 8]\n",
      "\n",
      "[[0 1 2]\n",
      " [3 4 5]\n",
      " [6 7 8]]\n",
      "\n",
      "[[0 1 2]\n",
      " [3 4 5]\n",
      " [6 7 8]\n",
      " [0 1 2]\n",
      " [3 4 5]\n",
      " [6 7 8]\n",
      " [0 1 2]\n",
      " [3 4 5]\n",
      " [6 7 8]]\n",
      "\n"
     ]
    },
    {
     "data": {
      "text/plain": [
       "array([[ 0,  0,  0],\n",
       "       [ 3,  4,  5],\n",
       "       [12, 14, 16],\n",
       "       [ 0,  3,  6],\n",
       "       [12, 16, 20],\n",
       "       [30, 35, 40],\n",
       "       [ 0,  6, 12],\n",
       "       [21, 28, 35],\n",
       "       [48, 56, 64]])"
      ]
     },
     "execution_count": 31,
     "metadata": {},
     "output_type": "execute_result"
    }
   ],
   "execution_count": 31
  }
 ],
 "metadata": {
  "kernelspec": {
   "display_name": "Python 3",
   "language": "python",
   "name": "python3"
  },
  "language_info": {
   "codemirror_mode": {
    "name": "ipython",
    "version": 2
   },
   "file_extension": ".py",
   "mimetype": "text/x-python",
   "name": "python",
   "nbconvert_exporter": "python",
   "pygments_lexer": "ipython2",
   "version": "2.7.6"
  }
 },
 "nbformat": 4,
 "nbformat_minor": 5
}
