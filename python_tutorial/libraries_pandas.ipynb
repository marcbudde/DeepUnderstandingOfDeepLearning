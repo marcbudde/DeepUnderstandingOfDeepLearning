{
 "cells": [
  {
   "cell_type": "code",
   "id": "initial_id",
   "metadata": {
    "collapsed": true,
    "ExecuteTime": {
     "end_time": "2024-08-16T16:09:35.657770Z",
     "start_time": "2024-08-16T16:09:33.316633Z"
    }
   },
   "source": [
    "import numpy as np\n",
    "import pandas as pd"
   ],
   "outputs": [],
   "execution_count": 2
  },
  {
   "metadata": {
    "ExecuteTime": {
     "end_time": "2024-08-16T16:17:06.788642Z",
     "start_time": "2024-08-16T16:17:06.778013Z"
    }
   },
   "cell_type": "code",
   "source": [
    "# create random data\n",
    "# np.random.randn(5, 5)\n",
    "var1 = np.random.randn(100) * 5 + 20\n",
    "var2 = np.random.randn(100) > 0\n",
    "\n",
    "# variable labels\n",
    "labels = [ 'Temp (C)', 'Ice cream' ]\n",
    "\n",
    "# put them togehter into a dictionary\n",
    "D = { labels[0]: var1, labels[1]: var2 }\n",
    "\n",
    "# import the dictionary into a pandas dataframe\n",
    "df = pd.DataFrame(data=D)\n",
    "print(df)\n",
    "df.head()\n",
    "df.count()\n",
    "df.mean()"
   ],
   "id": "771b91b45c90fcfc",
   "outputs": [
    {
     "name": "stdout",
     "output_type": "stream",
     "text": [
      "     Temp (C)  Ice cream\n",
      "0   21.375157       True\n",
      "1   26.991564      False\n",
      "2   23.273890      False\n",
      "3   20.962071       True\n",
      "4   27.607278      False\n",
      "..        ...        ...\n",
      "95  20.090071       True\n",
      "96  15.901166      False\n",
      "97  17.352333       True\n",
      "98  15.730841      False\n",
      "99  20.511418       True\n",
      "\n",
      "[100 rows x 2 columns]\n"
     ]
    },
    {
     "data": {
      "text/plain": [
       "Temp (C)     19.54953\n",
       "Ice cream     0.58000\n",
       "dtype: float64"
      ]
     },
     "execution_count": 18,
     "metadata": {},
     "output_type": "execute_result"
    }
   ],
   "execution_count": 18
  },
  {
   "metadata": {
    "ExecuteTime": {
     "end_time": "2024-08-16T16:26:42.264977Z",
     "start_time": "2024-08-16T16:26:42.254977Z"
    }
   },
   "cell_type": "code",
   "source": [
    "# Exercise\n",
    "# create a pandas dataframe with:\n",
    "#   integers going from 0 to 10, their square and their log\n",
    "\n",
    "numbers_1_to_10 = np.array(range(0,11))\n",
    "E = {'number': numbers_1_to_10, 'squares': numbers_1_to_10 ** 2, 'logs': np.log(numbers_1_to_10)}\n",
    "numberFrame = pd.DataFrame(E)\n",
    "numberFrame.head(11)\n",
    "\n",
    "# Warning: interpreter thinks you might have possibly something wrong"
   ],
   "id": "48fb9b5fe0ac2fd6",
   "outputs": [
    {
     "name": "stderr",
     "output_type": "stream",
     "text": [
      "C:\\Users\\budde01\\AppData\\Local\\Temp\\ipykernel_10568\\3804800244.py:6: RuntimeWarning: divide by zero encountered in log\n",
      "  E = {'number': numbers_1_to_10, 'squares': numbers_1_to_10 ** 2, 'logs': np.log(numbers_1_to_10)}\n"
     ]
    },
    {
     "data": {
      "text/plain": [
       "    number  squares      logs\n",
       "0        0        0      -inf\n",
       "1        1        1  0.000000\n",
       "2        2        4  0.693147\n",
       "3        3        9  1.098612\n",
       "4        4       16  1.386294\n",
       "5        5       25  1.609438\n",
       "6        6       36  1.791759\n",
       "7        7       49  1.945910\n",
       "8        8       64  2.079442\n",
       "9        9       81  2.197225\n",
       "10      10      100  2.302585"
      ],
      "text/html": [
       "<div>\n",
       "<style scoped>\n",
       "    .dataframe tbody tr th:only-of-type {\n",
       "        vertical-align: middle;\n",
       "    }\n",
       "\n",
       "    .dataframe tbody tr th {\n",
       "        vertical-align: top;\n",
       "    }\n",
       "\n",
       "    .dataframe thead th {\n",
       "        text-align: right;\n",
       "    }\n",
       "</style>\n",
       "<table border=\"1\" class=\"dataframe\">\n",
       "  <thead>\n",
       "    <tr style=\"text-align: right;\">\n",
       "      <th></th>\n",
       "      <th>number</th>\n",
       "      <th>squares</th>\n",
       "      <th>logs</th>\n",
       "    </tr>\n",
       "  </thead>\n",
       "  <tbody>\n",
       "    <tr>\n",
       "      <th>0</th>\n",
       "      <td>0</td>\n",
       "      <td>0</td>\n",
       "      <td>-inf</td>\n",
       "    </tr>\n",
       "    <tr>\n",
       "      <th>1</th>\n",
       "      <td>1</td>\n",
       "      <td>1</td>\n",
       "      <td>0.000000</td>\n",
       "    </tr>\n",
       "    <tr>\n",
       "      <th>2</th>\n",
       "      <td>2</td>\n",
       "      <td>4</td>\n",
       "      <td>0.693147</td>\n",
       "    </tr>\n",
       "    <tr>\n",
       "      <th>3</th>\n",
       "      <td>3</td>\n",
       "      <td>9</td>\n",
       "      <td>1.098612</td>\n",
       "    </tr>\n",
       "    <tr>\n",
       "      <th>4</th>\n",
       "      <td>4</td>\n",
       "      <td>16</td>\n",
       "      <td>1.386294</td>\n",
       "    </tr>\n",
       "    <tr>\n",
       "      <th>5</th>\n",
       "      <td>5</td>\n",
       "      <td>25</td>\n",
       "      <td>1.609438</td>\n",
       "    </tr>\n",
       "    <tr>\n",
       "      <th>6</th>\n",
       "      <td>6</td>\n",
       "      <td>36</td>\n",
       "      <td>1.791759</td>\n",
       "    </tr>\n",
       "    <tr>\n",
       "      <th>7</th>\n",
       "      <td>7</td>\n",
       "      <td>49</td>\n",
       "      <td>1.945910</td>\n",
       "    </tr>\n",
       "    <tr>\n",
       "      <th>8</th>\n",
       "      <td>8</td>\n",
       "      <td>64</td>\n",
       "      <td>2.079442</td>\n",
       "    </tr>\n",
       "    <tr>\n",
       "      <th>9</th>\n",
       "      <td>9</td>\n",
       "      <td>81</td>\n",
       "      <td>2.197225</td>\n",
       "    </tr>\n",
       "    <tr>\n",
       "      <th>10</th>\n",
       "      <td>10</td>\n",
       "      <td>100</td>\n",
       "      <td>2.302585</td>\n",
       "    </tr>\n",
       "  </tbody>\n",
       "</table>\n",
       "</div>"
      ]
     },
     "execution_count": 30,
     "metadata": {},
     "output_type": "execute_result"
    }
   ],
   "execution_count": 30
  }
 ],
 "metadata": {
  "kernelspec": {
   "display_name": "Python 3",
   "language": "python",
   "name": "python3"
  },
  "language_info": {
   "codemirror_mode": {
    "name": "ipython",
    "version": 2
   },
   "file_extension": ".py",
   "mimetype": "text/x-python",
   "name": "python",
   "nbconvert_exporter": "python",
   "pygments_lexer": "ipython2",
   "version": "2.7.6"
  }
 },
 "nbformat": 4,
 "nbformat_minor": 5
}
