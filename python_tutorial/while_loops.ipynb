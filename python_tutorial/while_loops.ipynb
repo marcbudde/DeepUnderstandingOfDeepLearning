{
 "cells": [
  {
   "cell_type": "code",
   "id": "initial_id",
   "metadata": {
    "collapsed": true,
    "ExecuteTime": {
     "end_time": "2024-08-20T09:04:26.287863Z",
     "start_time": "2024-08-20T09:04:25.851114Z"
    }
   },
   "source": [
    "# Exercise: Poisson counter\n",
    "# 1) specifiy a target np.exp(-lambda) -> 10\n",
    "# 2) initialize a counter=0, currval=1\n",
    "# 3) multiply currval by a random number U[0,1]\n",
    "# 4) repeat step 3 until currval<target\n",
    "# 5) return the number of times that you go through step 4\n",
    "\n",
    "import numpy as np\n",
    "\n",
    "def poisson_count(lam):\n",
    "    target = np.exp(-lam)\n",
    "    counter = 0\n",
    "    currval = 1\n",
    "    while currval >= target:\n",
    "        currval *= np.random.rand()\n",
    "        counter += 1\n",
    "    return counter"
   ],
   "outputs": [],
   "execution_count": 1
  },
  {
   "metadata": {
    "ExecuteTime": {
     "end_time": "2024-08-20T09:04:59.949209Z",
     "start_time": "2024-08-20T09:04:59.943645Z"
    }
   },
   "cell_type": "code",
   "source": "poisson_count(10)",
   "id": "daa0d2abb01032c",
   "outputs": [
    {
     "data": {
      "text/plain": [
       "13"
      ]
     },
     "execution_count": 19,
     "metadata": {},
     "output_type": "execute_result"
    }
   ],
   "execution_count": 19
  }
 ],
 "metadata": {
  "kernelspec": {
   "display_name": "Python 3",
   "language": "python",
   "name": "python3"
  },
  "language_info": {
   "codemirror_mode": {
    "name": "ipython",
    "version": 2
   },
   "file_extension": ".py",
   "mimetype": "text/x-python",
   "name": "python",
   "nbconvert_exporter": "python",
   "pygments_lexer": "ipython2",
   "version": "2.7.6"
  }
 },
 "nbformat": 4,
 "nbformat_minor": 5
}
