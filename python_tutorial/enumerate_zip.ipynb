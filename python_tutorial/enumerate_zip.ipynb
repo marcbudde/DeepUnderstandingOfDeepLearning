{
 "cells": [
  {
   "cell_type": "code",
   "id": "initial_id",
   "metadata": {
    "collapsed": true,
    "ExecuteTime": {
     "end_time": "2024-08-19T17:16:24.655380Z",
     "start_time": "2024-08-19T17:16:22.433740Z"
    }
   },
   "source": "import numpy as np",
   "outputs": [],
   "execution_count": 1
  },
  {
   "metadata": {
    "ExecuteTime": {
     "end_time": "2024-08-19T17:33:27.176633Z",
     "start_time": "2024-08-19T17:33:27.169912Z"
    }
   },
   "cell_type": "code",
   "source": [
    "ns = np.linspace(-5, 5, 7)\n",
    "\n",
    "# for i in range(len(ns)):\n",
    "#     print('Index ' + str(i) + ' has a value of ' + str(ns[i]))\n",
    "\n",
    "\n",
    "# for i, n in enumerate(ns):\n",
    "#     print('Index ' + str(i) + ' has a value of ' + str(n))\n",
    "    \n",
    "text = 'Hello, my name is John.'\n",
    "\n",
    "vowels = np.zeros(len(text))\n",
    "for i, n in enumerate(text):\n",
    "    if n in 'aeiouy': vowels[i] = 1\n",
    "    \n",
    "print(vowels)\n"
   ],
   "id": "2b863fdefdee3d84",
   "outputs": [
    {
     "name": "stdout",
     "output_type": "stream",
     "text": [
      "[0. 1. 0. 0. 1. 0. 0. 0. 1. 0. 0. 1. 0. 1. 0. 1. 0. 0. 0. 1. 0. 0. 0.]\n"
     ]
    }
   ],
   "execution_count": 25
  },
  {
   "metadata": {
    "ExecuteTime": {
     "end_time": "2024-08-19T17:36:40.508265Z",
     "start_time": "2024-08-19T17:36:40.502209Z"
    }
   },
   "cell_type": "code",
   "source": [
    "listA = [3,4,5,6,3,-17]\n",
    "listB  = ['q','w','e','r','t','y']\n",
    "\n",
    "for a,b in zip(listA,listB):\n",
    "    print(str(a) + ' ' + str(b))"
   ],
   "id": "d722596ea1f7a3fc",
   "outputs": [
    {
     "name": "stdout",
     "output_type": "stream",
     "text": [
      "3 q\n",
      "4 w\n",
      "5 e\n",
      "6 r\n",
      "3 t\n",
      "-17 y\n"
     ]
    }
   ],
   "execution_count": 27
  },
  {
   "metadata": {
    "ExecuteTime": {
     "end_time": "2024-08-19T17:37:30.245443Z",
     "start_time": "2024-08-19T17:37:30.241859Z"
    }
   },
   "cell_type": "code",
   "source": [
    "# listA shorter\n",
    "listA = [3, 4, 5, 6]\n",
    "listB = ['q', 'w', 'e', 'r', 't', 'y']\n",
    "\n",
    "for a, b in zip(listA, listB):\n",
    "    print(str(a) + ' ' + str(b))"
   ],
   "id": "45141f8124ea411c",
   "outputs": [
    {
     "name": "stdout",
     "output_type": "stream",
     "text": [
      "3 q\n",
      "4 w\n",
      "5 e\n",
      "6 r\n"
     ]
    }
   ],
   "execution_count": 29
  },
  {
   "metadata": {
    "ExecuteTime": {
     "end_time": "2024-08-19T17:42:12.613683Z",
     "start_time": "2024-08-19T17:42:12.608162Z"
    }
   },
   "cell_type": "code",
   "source": [
    "# exercise: given the following lists, create a dictionary using zip\n",
    "names = ['alpha', 'beta', 'gamma']\n",
    "values = [10, 20, 30]\n",
    "my_dict = dict(zip(names, values)) \n",
    "# for k,v in zip(names, values):\n",
    "#     my_dict[k] = v\n",
    "\n",
    "print(my_dict)"
   ],
   "id": "a8ff7e75f8ddc2c7",
   "outputs": [
    {
     "name": "stdout",
     "output_type": "stream",
     "text": [
      "{'alpha': 10, 'beta': 20, 'gamma': 30}\n"
     ]
    }
   ],
   "execution_count": 31
  }
 ],
 "metadata": {
  "kernelspec": {
   "display_name": "Python 3",
   "language": "python",
   "name": "python3"
  },
  "language_info": {
   "codemirror_mode": {
    "name": "ipython",
    "version": 2
   },
   "file_extension": ".py",
   "mimetype": "text/x-python",
   "name": "python",
   "nbconvert_exporter": "python",
   "pygments_lexer": "ipython2",
   "version": "2.7.6"
  }
 },
 "nbformat": 4,
 "nbformat_minor": 5
}
