{
 "cells": [
  {
   "metadata": {
    "collapsed": true,
    "ExecuteTime": {
     "end_time": "2024-08-16T15:43:39.376990Z",
     "start_time": "2024-08-16T15:43:39.372073Z"
    }
   },
   "cell_type": "code",
   "source": [
    "import numpy as np\n",
    "# from numpy import mean as m\n",
    "\n",
    "numbers = [ 1, 2, 3, 4, 5 ]\n",
    "\n",
    "np.mean(numbers)"
   ],
   "id": "initial_id",
   "outputs": [
    {
     "data": {
      "text/plain": [
       "np.float64(3.0)"
      ]
     },
     "execution_count": 19,
     "metadata": {},
     "output_type": "execute_result"
    }
   ],
   "execution_count": 19
  },
  {
   "metadata": {
    "ExecuteTime": {
     "end_time": "2024-08-16T15:43:39.486912Z",
     "start_time": "2024-08-16T15:43:39.481596Z"
    }
   },
   "cell_type": "code",
   "source": [
    "x = np.linspace(1, 7, 5)\n",
    "print(x)\n",
    "type(x)"
   ],
   "id": "42f6beb7af359b95",
   "outputs": [
    {
     "name": "stdout",
     "output_type": "stream",
     "text": [
      "[1.  2.5 4.  5.5 7. ]\n"
     ]
    },
    {
     "data": {
      "text/plain": [
       "numpy.ndarray"
      ]
     },
     "execution_count": 20,
     "metadata": {},
     "output_type": "execute_result"
    }
   ],
   "execution_count": 20
  },
  {
   "metadata": {
    "ExecuteTime": {
     "end_time": "2024-08-16T15:43:39.644683Z",
     "start_time": "2024-08-16T15:43:39.640925Z"
    }
   },
   "cell_type": "code",
   "source": [
    "numbers_np = np.array(numbers)\n",
    "\n",
    "print(type(numbers))\n",
    "print(type(numbers_np))"
   ],
   "id": "b9d25c066c6f4cf9",
   "outputs": [
    {
     "name": "stdout",
     "output_type": "stream",
     "text": [
      "<class 'list'>\n",
      "<class 'numpy.ndarray'>\n"
     ]
    }
   ],
   "execution_count": 21
  },
  {
   "metadata": {
    "ExecuteTime": {
     "end_time": "2024-08-16T15:43:39.728447Z",
     "start_time": "2024-08-16T15:43:39.721800Z"
    }
   },
   "cell_type": "code",
   "source": "np.max(numbers)",
   "id": "28adfcd013c7f917",
   "outputs": [
    {
     "data": {
      "text/plain": [
       "np.int64(5)"
      ]
     },
     "execution_count": 22,
     "metadata": {},
     "output_type": "execute_result"
    }
   ],
   "execution_count": 22
  },
  {
   "metadata": {
    "ExecuteTime": {
     "end_time": "2024-08-16T15:49:01.655407Z",
     "start_time": "2024-08-16T15:49:01.643805Z"
    }
   },
   "cell_type": "code",
   "source": [
    "# in place\n",
    "\n",
    "n = [ 4, 3, 5, 2, 6, 1, 7 ]\n",
    "nn = np.array(n)\n",
    "\n",
    "print(nn)\n",
    "nn.sort()\n",
    "print(nn)"
   ],
   "id": "cdfeaa4574f9a201",
   "outputs": [
    {
     "name": "stdout",
     "output_type": "stream",
     "text": [
      "[4 3 5 2 6 1 7]\n",
      "[1 2 3 4 5 6 7]\n"
     ]
    }
   ],
   "execution_count": 23
  },
  {
   "metadata": {
    "ExecuteTime": {
     "end_time": "2024-08-16T15:52:09.786728Z",
     "start_time": "2024-08-16T15:52:09.782131Z"
    }
   },
   "cell_type": "code",
   "source": [
    "# out of place\n",
    "n = [ 4, 3, 5, 2, 6, 1, 7 ]\n",
    "nn = np.array(n)\n",
    "print(nn)\n",
    "nns = np.sort(nn)\n",
    "print(nns)\n",
    "print(nn)"
   ],
   "id": "8136d534159bff8c",
   "outputs": [
    {
     "name": "stdout",
     "output_type": "stream",
     "text": [
      "[4 3 5 2 6 1 7]\n",
      "[1 2 3 4 5 6 7]\n",
      "[4 3 5 2 6 1 7]\n"
     ]
    }
   ],
   "execution_count": 24
  }
 ],
 "metadata": {
  "kernelspec": {
   "display_name": "Python 3",
   "language": "python",
   "name": "python3"
  },
  "language_info": {
   "codemirror_mode": {
    "name": "ipython",
    "version": 2
   },
   "file_extension": ".py",
   "mimetype": "text/x-python",
   "name": "python",
   "nbconvert_exporter": "python",
   "pygments_lexer": "ipython2",
   "version": "2.7.6"
  }
 },
 "nbformat": 4,
 "nbformat_minor": 5
}
