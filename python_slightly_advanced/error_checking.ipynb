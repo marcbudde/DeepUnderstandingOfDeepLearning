{
 "cells": [
  {
   "cell_type": "code",
   "id": "initial_id",
   "metadata": {
    "collapsed": true,
    "ExecuteTime": {
     "end_time": "2024-08-20T10:11:37.411299Z",
     "start_time": "2024-08-20T10:11:37.405491Z"
    }
   },
   "source": [
    "# create a function that will input 2 numbers and output their product\n",
    "def funfun(x,y):\n",
    "    if isinstance(x, str) and x.isnumeric(): x = float(x)\n",
    "    # check that inputs are numeric\n",
    "    elif not isinstance(x,(int, float)):\n",
    "        raise Exception('Input x must be a number!')\n",
    "    return x*y\n",
    "funfun('2', 3)"
   ],
   "outputs": [
    {
     "data": {
      "text/plain": [
       "6.0"
      ]
     },
     "execution_count": 6,
     "metadata": {},
     "output_type": "execute_result"
    }
   ],
   "execution_count": 6
  },
  {
   "metadata": {
    "ExecuteTime": {
     "end_time": "2024-08-20T10:31:06.944659Z",
     "start_time": "2024-08-20T10:31:06.937265Z"
    }
   },
   "cell_type": "code",
   "source": [
    "def funfunfun(x,y):\n",
    "    try:\n",
    "        z = x ** y\n",
    "        print(\"I am here\")\n",
    "    except:\n",
    "        print('Could not complete the mission')\n",
    "    return z\n",
    "\n",
    "funfunfun(2, 4)"
   ],
   "id": "9029a296e1d9467",
   "outputs": [
    {
     "name": "stdout",
     "output_type": "stream",
     "text": [
      "I am here\n"
     ]
    },
    {
     "data": {
      "text/plain": [
       "16"
      ]
     },
     "execution_count": 9,
     "metadata": {},
     "output_type": "execute_result"
    }
   ],
   "execution_count": 9
  }
 ],
 "metadata": {
  "kernelspec": {
   "display_name": "Python 3",
   "language": "python",
   "name": "python3"
  },
  "language_info": {
   "codemirror_mode": {
    "name": "ipython",
    "version": 2
   },
   "file_extension": ".py",
   "mimetype": "text/x-python",
   "name": "python",
   "nbconvert_exporter": "python",
   "pygments_lexer": "ipython2",
   "version": "2.7.6"
  }
 },
 "nbformat": 4,
 "nbformat_minor": 5
}
