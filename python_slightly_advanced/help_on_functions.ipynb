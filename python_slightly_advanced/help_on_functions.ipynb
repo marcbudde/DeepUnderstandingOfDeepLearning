{
 "cells": [
  {
   "cell_type": "code",
   "id": "initial_id",
   "metadata": {
    "collapsed": true,
    "ExecuteTime": {
     "end_time": "2024-08-16T16:34:06.056981Z",
     "start_time": "2024-08-16T16:34:06.049367Z"
    }
   },
   "source": [
    "# help\n",
    "x = [1, 2, 3]\n",
    "\n",
    "sum(x, 10)\n",
    "\n",
    "sum?\n",
    "# sum?? # no effect, but source file normally\n",
    "\n",
    "help(sum)"
   ],
   "outputs": [
    {
     "name": "stdout",
     "output_type": "stream",
     "text": [
      "Help on built-in function sum in module builtins:\n",
      "\n",
      "sum(iterable, /, start=0)\n",
      "    Return the sum of a 'start' value (default: 0) plus an iterable of numbers\n",
      "\n",
      "    When the iterable is empty, return the start value.\n",
      "    This function is intended specifically for use with numeric values and may\n",
      "    reject non-numeric types.\n",
      "\n"
     ]
    }
   ],
   "execution_count": 6
  },
  {
   "metadata": {
    "ExecuteTime": {
     "end_time": "2024-08-16T16:35:33.233264Z",
     "start_time": "2024-08-16T16:35:33.190438Z"
    }
   },
   "cell_type": "code",
   "source": [
    "import numpy as np\n",
    "np.linspace?\n",
    "\n",
    "np.linspace??"
   ],
   "id": "2b47d83706ecac48",
   "outputs": [],
   "execution_count": 8
  }
 ],
 "metadata": {
  "kernelspec": {
   "display_name": "Python 3",
   "language": "python",
   "name": "python3"
  },
  "language_info": {
   "codemirror_mode": {
    "name": "ipython",
    "version": 2
   },
   "file_extension": ".py",
   "mimetype": "text/x-python",
   "name": "python",
   "nbconvert_exporter": "python",
   "pygments_lexer": "ipython2",
   "version": "2.7.6"
  }
 },
 "nbformat": 4,
 "nbformat_minor": 5
}
