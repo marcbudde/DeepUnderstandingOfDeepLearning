{
 "cells": [
  {
   "cell_type": "code",
   "id": "initial_id",
   "metadata": {
    "collapsed": true,
    "ExecuteTime": {
     "end_time": "2024-08-16T17:28:41.761532Z",
     "start_time": "2024-08-16T17:28:41.756001Z"
    }
   },
   "source": [
    "def awesome_function():\n",
    "    print(1+1)\n",
    "    \n",
    "print('hi')"
   ],
   "outputs": [
    {
     "name": "stdout",
     "output_type": "stream",
     "text": [
      "hi\n"
     ]
    }
   ],
   "execution_count": 6
  },
  {
   "metadata": {
    "ExecuteTime": {
     "end_time": "2024-08-16T17:31:09.601178Z",
     "start_time": "2024-08-16T17:31:09.596456Z"
    }
   },
   "cell_type": "code",
   "source": "awesome_function()",
   "id": "d96a48db0904f8cd",
   "outputs": [
    {
     "name": "stdout",
     "output_type": "stream",
     "text": [
      "2\n"
     ]
    }
   ],
   "execution_count": 8
  },
  {
   "metadata": {
    "ExecuteTime": {
     "end_time": "2024-08-16T17:35:08.226573Z",
     "start_time": "2024-08-16T17:35:08.222023Z"
    }
   },
   "cell_type": "code",
   "source": [
    "def super_awesome_function(input1, input2):\n",
    "    prod = input1 * input2\n",
    "    summ = input1 + input2\n",
    "    return prod, summ"
   ],
   "id": "b8cc6513549ee85f",
   "outputs": [],
   "execution_count": 19
  },
  {
   "metadata": {
    "ExecuteTime": {
     "end_time": "2024-08-16T17:48:28.946706Z",
     "start_time": "2024-08-16T17:48:28.942458Z"
    }
   },
   "cell_type": "code",
   "source": [
    "result = super_awesome_function(4, 7)\n",
    "print(result)\n",
    "prod = result[0]\n",
    "out1, out2 = super_awesome_function(4, 7)\n",
    "print(out1, out2)"
   ],
   "id": "180ff53b6ef3c5ea",
   "outputs": [
    {
     "name": "stdout",
     "output_type": "stream",
     "text": [
      "(28, 11)\n",
      "28 11\n"
     ]
    }
   ],
   "execution_count": 22
  },
  {
   "metadata": {
    "ExecuteTime": {
     "end_time": "2024-08-16T17:49:59.355048Z",
     "start_time": "2024-08-16T17:49:59.345933Z"
    }
   },
   "cell_type": "code",
   "source": [
    "# lambda functions\n",
    "funcname = lambda x : x**2 - 1\n",
    "funcname(4)"
   ],
   "id": "f3623232166c529f",
   "outputs": [
    {
     "data": {
      "text/plain": [
       "15"
      ]
     },
     "execution_count": 24,
     "metadata": {},
     "output_type": "execute_result"
    }
   ],
   "execution_count": 24
  },
  {
   "metadata": {
    "ExecuteTime": {
     "end_time": "2024-08-16T17:52:51.676718Z",
     "start_time": "2024-08-16T17:52:51.669401Z"
    }
   },
   "cell_type": "code",
   "source": [
    "# Exercise: create a function that computes a factorial\n",
    "def factorial(n):\n",
    "    return 1 if n <= 1 else n * factorial(n - 1)\n",
    "\n",
    "factorial(4)"
   ],
   "id": "e8d84f821c25e555",
   "outputs": [
    {
     "data": {
      "text/plain": [
       "24"
      ]
     },
     "execution_count": 25,
     "metadata": {},
     "output_type": "execute_result"
    }
   ],
   "execution_count": 25
  }
 ],
 "metadata": {
  "kernelspec": {
   "display_name": "Python 3",
   "language": "python",
   "name": "python3"
  },
  "language_info": {
   "codemirror_mode": {
    "name": "ipython",
    "version": 2
   },
   "file_extension": ".py",
   "mimetype": "text/x-python",
   "name": "python",
   "nbconvert_exporter": "python",
   "pygments_lexer": "ipython2",
   "version": "2.7.6"
  }
 },
 "nbformat": 4,
 "nbformat_minor": 5
}
