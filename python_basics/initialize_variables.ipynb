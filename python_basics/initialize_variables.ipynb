{
 "cells": [
  {
   "cell_type": "code",
   "id": "initial_id",
   "metadata": {
    "collapsed": true
   },
   "source": "import numpy as np",
   "outputs": [],
   "execution_count": null
  },
  {
   "metadata": {
    "ExecuteTime": {
     "end_time": "2024-09-24T18:07:05.540915Z",
     "start_time": "2024-09-24T18:07:05.527213Z"
    }
   },
   "cell_type": "code",
   "source": [
    "N = 10\n",
    "\n",
    "r = np.zeros(N)\n",
    "# r = np.full(10, 7.8)\n",
    "print(r)\n",
    "\n",
    "for i in range(N):\n",
    "    r[i] = i ** 2\n",
    "    \n",
    "print(r)\n",
    "\n",
    "del r\n",
    "\n",
    "r = np.zeros((4, 5))\n",
    "print(r)"
   ],
   "id": "a19ceaa748877ea8",
   "outputs": [
    {
     "name": "stdout",
     "output_type": "stream",
     "text": [
      "[0. 0. 0. 0. 0. 0. 0. 0. 0. 0.]\n",
      "[ 0.  1.  4.  9. 16. 25. 36. 49. 64. 81.]\n",
      "[[0. 0. 0. 0. 0.]\n",
      " [0. 0. 0. 0. 0.]\n",
      " [0. 0. 0. 0. 0.]\n",
      " [0. 0. 0. 0. 0.]]\n"
     ]
    }
   ],
   "execution_count": 4
  },
  {
   "metadata": {
    "ExecuteTime": {
     "end_time": "2024-09-24T18:06:05.285855Z",
     "start_time": "2024-09-24T18:06:05.227512Z"
    }
   },
   "cell_type": "code",
   "source": [
    "# Exercise: Compare three methods of creating an array\n",
    "# N = 10000\n",
    "# r[i] = i**\"\n",
    "# time test!\n",
    "\n",
    "import time\n",
    "\n",
    "N = 10000\n",
    "\n",
    "c = time.perf_counter()\n",
    "first = np.zeros(N)\n",
    "for i in range(N): first[i] = i ** 2\n",
    "print('Duration first: ' + str(time.perf_counter() - c))\n",
    "\n",
    "c = time.perf_counter()\n",
    "second = []\n",
    "for i in range(N): second.append(i ** 2)\n",
    "print('Duration second: ' + str(time.perf_counter() - c))\n",
    "\n",
    "c = time.perf_counter()\n",
    "third = np.array([])\n",
    "for i in range(N): np.append(third, i ** 2)\n",
    "print('Duration third: ' + str(time.perf_counter() - c))"
   ],
   "id": "aeac621dbfe998d2",
   "outputs": [
    {
     "name": "stdout",
     "output_type": "stream",
     "text": [
      "Duration first: 0.007637660000000324\n",
      "Duration second: 0.0018405990003884654\n",
      "Duration third: 0.03731574199991883\n"
     ]
    }
   ],
   "execution_count": 3
  }
 ],
 "metadata": {
  "kernelspec": {
   "display_name": "Python 3",
   "language": "python",
   "name": "python3"
  },
  "language_info": {
   "codemirror_mode": {
    "name": "ipython",
    "version": 2
   },
   "file_extension": ".py",
   "mimetype": "text/x-python",
   "name": "python",
   "nbconvert_exporter": "python",
   "pygments_lexer": "ipython2",
   "version": "2.7.6"
  }
 },
 "nbformat": 4,
 "nbformat_minor": 5
}
