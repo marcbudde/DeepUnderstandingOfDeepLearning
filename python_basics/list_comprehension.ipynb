{
 "cells": [
  {
   "cell_type": "code",
   "id": "initial_id",
   "metadata": {
    "collapsed": true,
    "ExecuteTime": {
     "end_time": "2024-08-19T21:38:11.968328Z",
     "start_time": "2024-08-19T21:38:11.865260Z"
    }
   },
   "source": [
    "import random\n",
    "import numpy as np"
   ],
   "outputs": [],
   "execution_count": 43
  },
  {
   "metadata": {},
   "cell_type": "code",
   "source": [
    "r = random.randint(1, 10)\n",
    "\n",
    "print('r is large') if r > 5 else print('r is small')"
   ],
   "id": "24eb494524f04f22",
   "outputs": [],
   "execution_count": null
  },
  {
   "metadata": {},
   "cell_type": "code",
   "source": [
    "for i in range(10):\n",
    "    print(i ** 2)\n",
    "    \n",
    "[ print(i ** 2) for i in range(10) ]\n",
    "\n",
    "[ i ** 2 for i in range(10) ]"
   ],
   "id": "b870f3ae25e5d80",
   "outputs": [],
   "execution_count": null
  },
  {
   "metadata": {},
   "cell_type": "code",
   "source": "[ i ** 2 for i in range(10) if i > 5]",
   "id": "f7e86714993ece2a",
   "outputs": [],
   "execution_count": null
  },
  {
   "metadata": {},
   "cell_type": "code",
   "source": [
    "# Exercise: convert the following loops into single-line loops\n",
    "text = ['Promising', 'Yves', 'that', 'home', 'on', 'Nobb']\n",
    "\n",
    "for word in text:\n",
    "    print(word[0])\n",
    "    \n",
    "[print(i[0]) for i in text]"
   ],
   "id": "9b6ff2c13d9a8e1e",
   "outputs": [],
   "execution_count": null
  },
  {
   "metadata": {
    "ExecuteTime": {
     "end_time": "2024-08-19T21:34:05.140179Z",
     "start_time": "2024-08-19T21:34:05.123158Z"
    }
   },
   "cell_type": "code",
   "source": [
    "newlist = [''] * 10\n",
    "\n",
    "for i in range(10):\n",
    "    if(i % 2 == 1):\n",
    "        newlist[i] = 'Odd'\n",
    "    else:\n",
    "        newlist[i] = i\n",
    "        \n",
    "newlist"
   ],
   "id": "c08b35dbdfa8c3a2",
   "outputs": [
    {
     "data": {
      "text/plain": [
       "[0, 'Odd', 2, 'Odd', 4, 'Odd', 6, 'Odd', 8, 'Odd']"
      ]
     },
     "execution_count": 40,
     "metadata": {},
     "output_type": "execute_result"
    }
   ],
   "execution_count": 40
  },
  {
   "metadata": {
    "ExecuteTime": {
     "end_time": "2024-08-19T21:43:49.820432Z",
     "start_time": "2024-08-19T21:43:49.807950Z"
    }
   },
   "cell_type": "code",
   "source": "['Odd' if i % 2 == 1 else i for i in range(10)]",
   "id": "d888f13719899b39",
   "outputs": [
    {
     "data": {
      "text/plain": [
       "[0, 'Odd', 2, 'Odd', 4, 'Odd', 6, 'Odd', 8, 'Odd']"
      ]
     },
     "execution_count": 51,
     "metadata": {},
     "output_type": "execute_result"
    }
   ],
   "execution_count": 51
  },
  {
   "metadata": {
    "ExecuteTime": {
     "end_time": "2024-08-19T21:51:07.941170Z",
     "start_time": "2024-08-19T21:51:07.914540Z"
    }
   },
   "cell_type": "code",
   "source": [
    "x1 = np.linspace(-3, 3, 11)\n",
    "y1 = x1 ** 2\n",
    "print(x1)\n",
    "print(y1)\n",
    "\n",
    "x2 = [round(-3 + x * 6 / 10, 1)  for x in range(11)]\n",
    "y2 = [x ** 2 for x in x2]\n",
    "print()\n",
    "print(x2)\n",
    "print(y2)"
   ],
   "id": "c59aafd8ef3a0b97",
   "outputs": [
    {
     "name": "stdout",
     "output_type": "stream",
     "text": [
      "[-3.  -2.4 -1.8 -1.2 -0.6  0.   0.6  1.2  1.8  2.4  3. ]\n",
      "[9.   5.76 3.24 1.44 0.36 0.   0.36 1.44 3.24 5.76 9.  ]\n",
      "\n",
      "[-3.0, -2.4, -1.8, -1.2, -0.6, 0.0, 0.6, 1.2, 1.8, 2.4, 3.0]\n",
      "[9.0, 5.76, 3.24, 1.44, 0.36, 0.0, 0.36, 1.44, 3.24, 5.76, 9.0]\n"
     ]
    }
   ],
   "execution_count": 60
  }
 ],
 "metadata": {
  "kernelspec": {
   "display_name": "Python 3",
   "language": "python",
   "name": "python3"
  },
  "language_info": {
   "codemirror_mode": {
    "name": "ipython",
    "version": 2
   },
   "file_extension": ".py",
   "mimetype": "text/x-python",
   "name": "python",
   "nbconvert_exporter": "python",
   "pygments_lexer": "ipython2",
   "version": "2.7.6"
  }
 },
 "nbformat": 4,
 "nbformat_minor": 5
}
