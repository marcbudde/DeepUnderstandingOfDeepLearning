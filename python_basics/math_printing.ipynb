{
 "cells": [
  {
   "metadata": {
    "ExecuteTime": {
     "end_time": "2024-08-13T07:19:18.421975Z",
     "start_time": "2024-08-13T07:19:18.408043Z"
    }
   },
   "cell_type": "code",
   "source": [
    "x = 7\n",
    "y = 4.3\n",
    "z = 0\n",
    "\n",
    "# no real algebra, but floating point algebra\n",
    "y + x - 7"
   ],
   "id": "5be7e1da19c7884a",
   "outputs": [
    {
     "data": {
      "text/plain": [
       "4.300000000000001"
      ]
     },
     "execution_count": 1,
     "metadata": {},
     "output_type": "execute_result"
    }
   ],
   "execution_count": 1
  },
  {
   "metadata": {
    "ExecuteTime": {
     "end_time": "2024-08-13T07:21:20.892514Z",
     "start_time": "2024-08-13T07:21:20.869909Z"
    }
   },
   "cell_type": "code",
   "source": [
    "c = y + 3.5 * x - 7\n",
    "c"
   ],
   "id": "b9d547d5994a9032",
   "outputs": [
    {
     "data": {
      "text/plain": [
       "21.8"
      ]
     },
     "execution_count": 3,
     "metadata": {},
     "output_type": "execute_result"
    }
   ],
   "execution_count": 3
  },
  {
   "metadata": {
    "ExecuteTime": {
     "end_time": "2024-08-13T07:21:28.385012Z",
     "start_time": "2024-08-13T07:21:28.377803Z"
    }
   },
   "cell_type": "code",
   "source": "4 / 3",
   "id": "5d341f92732733da",
   "outputs": [
    {
     "data": {
      "text/plain": [
       "1.3333333333333333"
      ]
     },
     "execution_count": 4,
     "metadata": {},
     "output_type": "execute_result"
    }
   ],
   "execution_count": 4
  },
  {
   "metadata": {
    "ExecuteTime": {
     "end_time": "2024-08-13T07:24:08.709251Z",
     "start_time": "2024-08-13T07:24:08.691241Z"
    }
   },
   "cell_type": "code",
   "source": "9 ** (1/2)",
   "id": "c9c1ff852f3acf33",
   "outputs": [
    {
     "data": {
      "text/plain": [
       "3.0"
      ]
     },
     "execution_count": 8,
     "metadata": {},
     "output_type": "execute_result"
    }
   ],
   "execution_count": 8
  },
  {
   "metadata": {
    "ExecuteTime": {
     "end_time": "2024-08-13T07:25:18.943849Z",
     "start_time": "2024-08-13T07:25:18.936203Z"
    }
   },
   "cell_type": "code",
   "source": [
    "firstName = 'Mike'\n",
    "lastName = 'Smith'\n",
    "\n",
    "# Concatenation due to overloaded operator\n",
    "firstName + lastName"
   ],
   "id": "dc287d0a59e15fd",
   "outputs": [
    {
     "data": {
      "text/plain": [
       "'MikeSmith'"
      ]
     },
     "execution_count": 9,
     "metadata": {},
     "output_type": "execute_result"
    }
   ],
   "execution_count": 9
  },
  {
   "metadata": {
    "ExecuteTime": {
     "end_time": "2024-08-13T07:26:10.919544Z",
     "start_time": "2024-08-13T07:26:10.913222Z"
    }
   },
   "cell_type": "code",
   "source": "firstName + ' ' + lastName",
   "id": "1cb00240236db700",
   "outputs": [
    {
     "data": {
      "text/plain": [
       "'Mike Smith'"
      ]
     },
     "execution_count": 10,
     "metadata": {},
     "output_type": "execute_result"
    }
   ],
   "execution_count": 10
  },
  {
   "metadata": {
    "ExecuteTime": {
     "end_time": "2024-08-13T07:26:25.800093Z",
     "start_time": "2024-08-13T07:26:25.510527Z"
    }
   },
   "cell_type": "code",
   "source": "# firstName - lastName",
   "id": "5a385e8efc9623b6",
   "outputs": [
    {
     "ename": "TypeError",
     "evalue": "unsupported operand type(s) for -: 'str' and 'str'",
     "output_type": "error",
     "traceback": [
      "\u001B[0;31m---------------------------------------------------------------------------\u001B[0m",
      "\u001B[0;31mTypeError\u001B[0m                                 Traceback (most recent call last)",
      "Cell \u001B[0;32mIn[11], line 1\u001B[0m\n\u001B[0;32m----> 1\u001B[0m \u001B[43mfirstName\u001B[49m\u001B[43m \u001B[49m\u001B[38;5;241;43m-\u001B[39;49m\u001B[43m \u001B[49m\u001B[43mlastName\u001B[49m\n",
      "\u001B[0;31mTypeError\u001B[0m: unsupported operand type(s) for -: 'str' and 'str'"
     ]
    }
   ],
   "execution_count": 11
  },
  {
   "metadata": {
    "ExecuteTime": {
     "end_time": "2024-08-13T07:27:10.020879Z",
     "start_time": "2024-08-13T07:27:09.999286Z"
    }
   },
   "cell_type": "code",
   "source": "firstName * 3",
   "id": "10720903b09e0ac2",
   "outputs": [
    {
     "data": {
      "text/plain": [
       "'MikeMikeMike'"
      ]
     },
     "execution_count": 15,
     "metadata": {},
     "output_type": "execute_result"
    }
   ],
   "execution_count": 15
  },
  {
   "metadata": {
    "ExecuteTime": {
     "end_time": "2024-08-13T07:28:02.654632Z",
     "start_time": "2024-08-13T07:28:02.644116Z"
    }
   },
   "cell_type": "code",
   "source": "print('7 * 3 = ', x + y)",
   "id": "51d4f0b840176a5c",
   "outputs": [
    {
     "name": "stdout",
     "output_type": "stream",
     "text": [
      "7 *3 =  11.3\n"
     ]
    }
   ],
   "execution_count": 17
  },
  {
   "metadata": {
    "ExecuteTime": {
     "end_time": "2024-08-13T07:30:06.575537Z",
     "start_time": "2024-08-13T07:30:06.562057Z"
    }
   },
   "cell_type": "code",
   "source": "print(str(x) + '+' + str(y) + '=' + str(x + y))",
   "id": "86c03bb31a20b1e",
   "outputs": [
    {
     "name": "stdout",
     "output_type": "stream",
     "text": [
      "7+4.3=11.3\n"
     ]
    }
   ],
   "execution_count": 19
  },
  {
   "metadata": {
    "ExecuteTime": {
     "end_time": "2024-08-13T07:32:25.112556Z",
     "start_time": "2024-08-13T07:32:23.303188Z"
    }
   },
   "cell_type": "code",
   "source": [
    "ans = input('Give me a number: ')\n",
    "print(10 + int(ans)) # or float(), ..."
   ],
   "id": "786f7d8234bffdd7",
   "outputs": [
    {
     "name": "stdout",
     "output_type": "stream",
     "text": [
      "55\n"
     ]
    }
   ],
   "execution_count": 22
  },
  {
   "metadata": {
    "ExecuteTime": {
     "end_time": "2024-08-13T21:39:08.398521Z",
     "start_time": "2024-08-13T21:39:05.555703Z"
    }
   },
   "cell_type": "code",
   "source": [
    "# Exercise\n",
    "# Pythagorean theorem\n",
    "a = float(input('Seite a: '))\n",
    "b = float(input('Seite b: '))\n",
    "c = (a**2 + b**2)**(1/2)\n",
    "c"
   ],
   "id": "3032f737e053eacf",
   "outputs": [
    {
     "data": {
      "text/plain": [
       "5.0"
      ]
     },
     "execution_count": 2,
     "metadata": {},
     "output_type": "execute_result"
    }
   ],
   "execution_count": 2
  },
  {
   "metadata": {},
   "cell_type": "code",
   "outputs": [],
   "execution_count": null,
   "source": "",
   "id": "a15bf3c533aee001"
  }
 ],
 "metadata": {
  "kernelspec": {
   "display_name": "Python 3",
   "language": "python",
   "name": "python3"
  },
  "language_info": {
   "codemirror_mode": {
    "name": "ipython",
    "version": 2
   },
   "file_extension": ".py",
   "mimetype": "text/x-python",
   "name": "python",
   "nbconvert_exporter": "python",
   "pygments_lexer": "ipython2",
   "version": "2.7.6"
  }
 },
 "nbformat": 4,
 "nbformat_minor": 5
}
