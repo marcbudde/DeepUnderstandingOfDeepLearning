{
 "cells": [
  {
   "cell_type": "code",
   "id": "initial_id",
   "metadata": {
    "collapsed": true,
    "ExecuteTime": {
     "end_time": "2024-08-13T06:57:27.573088Z",
     "start_time": "2024-08-13T06:57:27.560082Z"
    }
   },
   "source": [
    "a = 4\n",
    "b = 7\n",
    "print(a)\n",
    "b"
   ],
   "outputs": [
    {
     "name": "stdout",
     "output_type": "stream",
     "text": [
      "4\n"
     ]
    },
    {
     "data": {
      "text/plain": [
       "7"
      ]
     },
     "execution_count": 3,
     "metadata": {},
     "output_type": "execute_result"
    }
   ],
   "execution_count": 3
  },
  {
   "metadata": {
    "ExecuteTime": {
     "end_time": "2024-08-13T06:58:23.347166Z",
     "start_time": "2024-08-13T06:58:23.338676Z"
    }
   },
   "cell_type": "code",
   "source": [
    "# This is a comment\n",
    "c = a + b # add a and b\n",
    "c"
   ],
   "id": "9708b53a15c28c99",
   "outputs": [
    {
     "data": {
      "text/plain": [
       "11"
      ]
     },
     "execution_count": 5,
     "metadata": {},
     "output_type": "execute_result"
    }
   ],
   "execution_count": 5
  },
  {
   "metadata": {
    "ExecuteTime": {
     "end_time": "2024-08-13T06:59:27.304005Z",
     "start_time": "2024-08-13T06:59:27.296848Z"
    }
   },
   "cell_type": "code",
   "source": [
    "c = 7\n",
    "d = 7.0\n",
    "print(type(c))\n",
    "print(type(d))"
   ],
   "id": "a7fc5b54d664f4d0",
   "outputs": [
    {
     "name": "stdout",
     "output_type": "stream",
     "text": [
      "<class 'int'>\n",
      "<class 'float'>\n"
     ]
    }
   ],
   "execution_count": 6
  },
  {
   "metadata": {
    "ExecuteTime": {
     "end_time": "2024-08-13T07:08:34.316586Z",
     "start_time": "2024-08-13T07:08:34.296946Z"
    }
   },
   "cell_type": "code",
   "source": [
    "e = 'hello my \"friend\"'\n",
    "f = \"hello my 'friend'\"\n",
    "print(e)\n",
    "print(f)"
   ],
   "id": "52e376df92423675",
   "outputs": [
    {
     "name": "stdout",
     "output_type": "stream",
     "text": [
      "hello my \"friend\"\n",
      "hello my 'friend'\n"
     ]
    }
   ],
   "execution_count": 7
  },
  {
   "metadata": {
    "ExecuteTime": {
     "end_time": "2024-08-13T07:12:26.615885Z",
     "start_time": "2024-08-13T07:12:26.596497Z"
    }
   },
   "cell_type": "code",
   "source": [
    "aVariableName = 10\n",
    "filterOrder   = 18\n",
    "user_name     = 'mark'\n",
    "param4ModelA  = 43.2345\n",
    "\n",
    "# 3name - not allowed\n",
    "_3name = 'my var'\n",
    "\n",
    "%whos"
   ],
   "id": "4e96a2242498a9f5",
   "outputs": [
    {
     "name": "stdout",
     "output_type": "stream",
     "text": [
      "Variable                        Type        Data/Info\n",
      "-----------------------------------------------------\n",
      "a                               int         4\n",
      "aVariableName                   int         10\n",
      "b                               int         7\n",
      "c                               int         7\n",
      "d                               float       7.0\n",
      "e                               str         hello my \"friend\"\n",
      "f                               str         hello my 'friend'\n",
      "filterOrder                     int         18\n",
      "param4ModelA                    float       43.2345\n",
      "pydev_jupyter_vars              module      <module 'pydev_jupyter_va<...>g/pydev_jupyter_vars.py'>\n",
      "remove_imported_pydev_package   function    <function remove_imported<...>ackage at 0x7ff0dcb32160>\n",
      "sys                             module      <module 'sys' (built-in)>\n",
      "user_name                       str         mark\n"
     ]
    }
   ],
   "execution_count": 8
  },
  {
   "metadata": {
    "ExecuteTime": {
     "end_time": "2024-08-13T07:13:48.484971Z",
     "start_time": "2024-08-13T07:13:48.480700Z"
    }
   },
   "cell_type": "code",
   "source": [
    "# multiple assignment\n",
    "x, y = 4, 6\n",
    "print(x)\n",
    "print(y)"
   ],
   "id": "228949d127992d9b",
   "outputs": [
    {
     "name": "stdout",
     "output_type": "stream",
     "text": [
      "4\n",
      "6\n"
     ]
    }
   ],
   "execution_count": 10
  },
  {
   "metadata": {
    "ExecuteTime": {
     "end_time": "2024-08-13T07:17:18.566854Z",
     "start_time": "2024-08-13T07:17:18.555562Z"
    }
   },
   "cell_type": "code",
   "source": [
    "# Exercise!\n",
    "# Can you overwrite existing variables?\n",
    "#   - using the same variable type#\n",
    "#   - using a different variable type\n",
    "\n",
    "i = 2\n",
    "print(i, type(i))\n",
    "i = 9\n",
    "print(i, type(i))\n",
    "i = 'test'\n",
    "print(i, type(i))"
   ],
   "id": "2752fc0be9b25919",
   "outputs": [
    {
     "name": "stdout",
     "output_type": "stream",
     "text": [
      "2 <class 'int'>\n",
      "9 <class 'int'>\n",
      "test <class 'str'>\n"
     ]
    }
   ],
   "execution_count": 13
  },
  {
   "metadata": {},
   "cell_type": "code",
   "outputs": [],
   "execution_count": null,
   "source": "",
   "id": "c6a38d5a869b2f6a"
  }
 ],
 "metadata": {
  "kernelspec": {
   "display_name": "Python 3",
   "language": "python",
   "name": "python3"
  },
  "language_info": {
   "codemirror_mode": {
    "name": "ipython",
    "version": 2
   },
   "file_extension": ".py",
   "mimetype": "text/x-python",
   "name": "python",
   "nbconvert_exporter": "python",
   "pygments_lexer": "ipython2",
   "version": "2.7.6"
  }
 },
 "nbformat": 4,
 "nbformat_minor": 5
}
