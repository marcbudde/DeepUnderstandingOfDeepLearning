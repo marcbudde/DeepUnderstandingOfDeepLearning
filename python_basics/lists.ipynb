{
 "cells": [
  {
   "cell_type": "code",
   "id": "initial_id",
   "metadata": {
    "collapsed": true,
    "ExecuteTime": {
     "end_time": "2024-08-13T21:46:13.082459Z",
     "start_time": "2024-08-13T21:46:13.074733Z"
    }
   },
   "source": [
    "# list\n",
    "aList = [ 4, 5, 6, 2, 0, 3 ]\n",
    "strList = [ 'hi', 'my', 'name', 'is', 'mike' ]\n",
    "mixedList = [ 8, 5.01, 'test', 50.1 ]\n",
    "type(aList)\n",
    "type(strList)\n",
    "type(mixedList)\n",
    "\n",
    "listlist = [ 1, 2, 3, 'hi', 'bye', [.5, 1/4, 'i'], 5, 6, 3 ]\n",
    "listlist"
   ],
   "outputs": [
    {
     "data": {
      "text/plain": [
       "[1, 2, 3, 'hi', 'bye', [0.5, 0.25, 'i'], 5, 6, 3]"
      ]
     },
     "execution_count": 5,
     "metadata": {},
     "output_type": "execute_result"
    }
   ],
   "execution_count": 5
  },
  {
   "metadata": {
    "ExecuteTime": {
     "end_time": "2024-08-13T21:49:40.266127Z",
     "start_time": "2024-08-13T21:49:40.223850Z"
    }
   },
   "cell_type": "code",
   "source": [
    "print(4 in aList)\n",
    "40 not in aList"
   ],
   "id": "8e4438ef3e5644cb",
   "outputs": [
    {
     "name": "stdout",
     "output_type": "stream",
     "text": [
      "True\n"
     ]
    },
    {
     "data": {
      "text/plain": [
       "True"
      ]
     },
     "execution_count": 10,
     "metadata": {},
     "output_type": "execute_result"
    }
   ],
   "execution_count": 10
  },
  {
   "metadata": {},
   "cell_type": "code",
   "source": "aList + strList # concat",
   "id": "476c89ac64cd757e",
   "outputs": [],
   "execution_count": null
  },
  {
   "metadata": {},
   "cell_type": "code",
   "source": "aList * 3 # duplicate and concat twice",
   "id": "1364d903b432fe91",
   "outputs": [],
   "execution_count": null
  },
  {
   "metadata": {
    "ExecuteTime": {
     "end_time": "2024-08-13T21:52:25.733119Z",
     "start_time": "2024-08-13T21:52:25.719664Z"
    }
   },
   "cell_type": "code",
   "source": [
    "print(aList)\n",
    "print(len(aList))\n",
    "aList.append(-100)\n",
    "print(aList)"
   ],
   "id": "f630e3cee4cc4721",
   "outputs": [
    {
     "name": "stdout",
     "output_type": "stream",
     "text": [
      "[4, 5, 6, 2, 0, 3]\n",
      "6\n",
      "[4, 5, 6, 2, 0, 3, -100]\n"
     ]
    }
   ],
   "execution_count": 16
  },
  {
   "metadata": {
    "ExecuteTime": {
     "end_time": "2024-08-13T21:52:57.537638Z",
     "start_time": "2024-08-13T21:52:57.534372Z"
    }
   },
   "cell_type": "code",
   "source": [
    "print(len(aList))\n",
    "aList.append(-100)\n",
    "print(aList)"
   ],
   "id": "c01356b03fb4bd85",
   "outputs": [
    {
     "name": "stdout",
     "output_type": "stream",
     "text": [
      "7\n",
      "[4, 5, 6, 2, 0, 3, -100, -100]\n"
     ]
    }
   ],
   "execution_count": 17
  },
  {
   "metadata": {
    "ExecuteTime": {
     "end_time": "2024-08-13T21:53:29.445229Z",
     "start_time": "2024-08-13T21:53:29.440375Z"
    }
   },
   "cell_type": "code",
   "source": [
    "print(len(aList))\n",
    "aList.sort()\n",
    "print(aList)"
   ],
   "id": "71c838bb7bb158c1",
   "outputs": [
    {
     "name": "stdout",
     "output_type": "stream",
     "text": [
      "8\n",
      "[-100, -100, 0, 2, 3, 4, 5, 6]\n"
     ]
    }
   ],
   "execution_count": 18
  },
  {
   "metadata": {
    "ExecuteTime": {
     "end_time": "2024-08-13T21:55:11.092309Z",
     "start_time": "2024-08-13T21:55:11.086989Z"
    }
   },
   "cell_type": "code",
   "source": [
    "# Exercise\n",
    "# Use a list method to find the number of \"-100\"s in aList\n",
    "aList.count(-100)"
   ],
   "id": "eacdf680d8f404dc",
   "outputs": [
    {
     "data": {
      "text/plain": [
       "2"
      ]
     },
     "execution_count": 19,
     "metadata": {},
     "output_type": "execute_result"
    }
   ],
   "execution_count": 19
  },
  {
   "metadata": {
    "ExecuteTime": {
     "end_time": "2024-08-13T22:00:19.100593Z",
     "start_time": "2024-08-13T22:00:19.091932Z"
    }
   },
   "cell_type": "code",
   "source": [
    "lst = [ 1, 2, 3, 4, 5 ]\n",
    "print(lst)\n",
    "lst.append(7)\n",
    "print(lst)\n",
    "\n",
    "lst.insert(2, 9)\n",
    "print(lst)"
   ],
   "id": "b1d323d56f5ee4",
   "outputs": [
    {
     "name": "stdout",
     "output_type": "stream",
     "text": [
      "[1, 2, 3, 4, 5]\n",
      "[1, 2, 3, 4, 5, 7]\n",
      "[1, 2, 9, 3, 4, 5, 7]\n",
      "[1, 2, 9, 3, 'qwerty', 4, 5, 7]\n"
     ]
    }
   ],
   "execution_count": 22
  },
  {
   "metadata": {
    "ExecuteTime": {
     "end_time": "2024-08-13T22:00:50.199978Z",
     "start_time": "2024-08-13T22:00:50.194541Z"
    }
   },
   "cell_type": "code",
   "source": [
    "lst.insert(4, 'qwerty')\n",
    "print(lst)"
   ],
   "id": "51a82a3140e79f2e",
   "outputs": [
    {
     "name": "stdout",
     "output_type": "stream",
     "text": [
      "[1, 2, 9, 3, 'qwerty', 'qwerty', 4, 5, 7]\n"
     ]
    }
   ],
   "execution_count": 23
  },
  {
   "metadata": {
    "ExecuteTime": {
     "end_time": "2024-08-13T22:02:23.190776Z",
     "start_time": "2024-08-13T22:02:23.174525Z"
    }
   },
   "cell_type": "code",
   "source": [
    "lst.remove(9)\n",
    "print(lst)"
   ],
   "id": "2034ca06c91f39de",
   "outputs": [
    {
     "name": "stdout",
     "output_type": "stream",
     "text": [
      "[1, 2, 3, 'qwerty', 'qwerty', 4, 5, 7]\n"
     ]
    }
   ],
   "execution_count": 24
  },
  {
   "metadata": {
    "ExecuteTime": {
     "end_time": "2024-08-13T22:02:31.838244Z",
     "start_time": "2024-08-13T22:02:31.614454Z"
    }
   },
   "cell_type": "code",
   "source": "lst.remove(19)",
   "id": "4de333a0cbe167",
   "outputs": [
    {
     "ename": "ValueError",
     "evalue": "list.remove(x): x not in list",
     "output_type": "error",
     "traceback": [
      "\u001B[0;31m---------------------------------------------------------------------------\u001B[0m",
      "\u001B[0;31mValueError\u001B[0m                                Traceback (most recent call last)",
      "Cell \u001B[0;32mIn[25], line 1\u001B[0m\n\u001B[0;32m----> 1\u001B[0m \u001B[43mlst\u001B[49m\u001B[38;5;241;43m.\u001B[39;49m\u001B[43mremove\u001B[49m\u001B[43m(\u001B[49m\u001B[38;5;241;43m19\u001B[39;49m\u001B[43m)\u001B[49m\n",
      "\u001B[0;31mValueError\u001B[0m: list.remove(x): x not in list"
     ]
    }
   ],
   "execution_count": 25
  },
  {
   "metadata": {
    "ExecuteTime": {
     "end_time": "2024-08-13T22:03:12.430815Z",
     "start_time": "2024-08-13T22:03:12.408839Z"
    }
   },
   "cell_type": "code",
   "source": [
    "lst.sort()\n",
    "lst"
   ],
   "id": "a97931ea5f499171",
   "outputs": [
    {
     "ename": "TypeError",
     "evalue": "'<' not supported between instances of 'str' and 'int'",
     "output_type": "error",
     "traceback": [
      "\u001B[0;31m---------------------------------------------------------------------------\u001B[0m",
      "\u001B[0;31mTypeError\u001B[0m                                 Traceback (most recent call last)",
      "Cell \u001B[0;32mIn[26], line 1\u001B[0m\n\u001B[0;32m----> 1\u001B[0m \u001B[43mlst\u001B[49m\u001B[38;5;241;43m.\u001B[39;49m\u001B[43msort\u001B[49m\u001B[43m(\u001B[49m\u001B[43m)\u001B[49m\n\u001B[1;32m      2\u001B[0m lst\n",
      "\u001B[0;31mTypeError\u001B[0m: '<' not supported between instances of 'str' and 'int'"
     ]
    }
   ],
   "execution_count": 26
  },
  {
   "metadata": {
    "ExecuteTime": {
     "end_time": "2024-08-13T22:07:51.599932Z",
     "start_time": "2024-08-13T22:07:51.579981Z"
    }
   },
   "cell_type": "code",
   "source": [
    "# Exercise\n",
    "lst = [ 1, 2, 9, 3, 'qwerty', 4, 5, 7 ]\n",
    "lst.remove('qwerty')\n",
    "lst.sort(reverse=True)\n",
    "print(lst)"
   ],
   "id": "8989b776137614ec",
   "outputs": [
    {
     "name": "stdout",
     "output_type": "stream",
     "text": [
      "[9, 7, 5, 4, 3, 2, 1]\n"
     ]
    }
   ],
   "execution_count": 28
  },
  {
   "metadata": {},
   "cell_type": "code",
   "outputs": [],
   "execution_count": null,
   "source": "",
   "id": "e78773ab97c6f380"
  }
 ],
 "metadata": {
  "kernelspec": {
   "display_name": "Python 3",
   "language": "python",
   "name": "python3"
  },
  "language_info": {
   "codemirror_mode": {
    "name": "ipython",
    "version": 2
   },
   "file_extension": ".py",
   "mimetype": "text/x-python",
   "name": "python",
   "nbconvert_exporter": "python",
   "pygments_lexer": "ipython2",
   "version": "2.7.6"
  }
 },
 "nbformat": 4,
 "nbformat_minor": 5
}
