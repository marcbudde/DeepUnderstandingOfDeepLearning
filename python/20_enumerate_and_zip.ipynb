{
 "cells": [
  {
   "cell_type": "code",
   "id": "initial_id",
   "metadata": {
    "collapsed": true
   },
   "source": [
    "from operator import contains\n",
    "\n",
    "import numpy as np"
   ],
   "outputs": [],
   "execution_count": null
  },
  {
   "metadata": {},
   "cell_type": "code",
   "source": [
    "ns = np.linspace(-5, 5, 7)\n",
    "for i in range(len(ns)):\n",
    "    print('Index ' + str(i) + ' has a value if ' + str(ns[i]))"
   ],
   "id": "8cadb4a65483b8ec",
   "outputs": [],
   "execution_count": null
  },
  {
   "metadata": {},
   "cell_type": "code",
   "source": [
    "ns = np.linspace(-5, 5, 7)\n",
    "for i,n in enumerate(ns):\n",
    "    print('Index ' + str(i) + ' has a value if ' + str(n))"
   ],
   "id": "9b2412228482b4d8",
   "outputs": [],
   "execution_count": null
  },
  {
   "metadata": {
    "ExecuteTime": {
     "end_time": "2025-07-15T22:11:28.405541Z",
     "start_time": "2025-07-15T22:11:28.396165Z"
    }
   },
   "cell_type": "code",
   "source": [
    "text = 'Hello, my name is Marc.'\n",
    "vowels = np.zeros(len(text))\n",
    "vowelMap = 'AaEeIiOoUuYy'\n",
    "for i,n in enumerate(text):\n",
    "    if n in vowelMap: vowels[i] = 1\n",
    "print(vowels)"
   ],
   "id": "6e73b0c4c0dfc2c7",
   "outputs": [
    {
     "name": "stdout",
     "output_type": "stream",
     "text": [
      "[0. 1. 0. 0. 1. 0. 0. 0. 1. 0. 0. 1. 0. 1. 0. 1. 0. 0. 0. 1. 0. 0. 0.]\n"
     ]
    }
   ],
   "execution_count": 15
  },
  {
   "metadata": {
    "ExecuteTime": {
     "end_time": "2025-07-15T22:15:10.665111Z",
     "start_time": "2025-07-15T22:15:10.659227Z"
    }
   },
   "cell_type": "code",
   "source": [
    "listA = [3, 4, 5, 6, 3, -17]\n",
    "listB = ['q', 'w', 'e', 'r', 't', 'y']\n",
    "\n",
    "for i in range(len(listA)):\n",
    "    print(str(listA[i]) + ' ' + listB[i])\n",
    "\n",
    "print('')\n",
    "\n",
    "for a, b in zip(listA, listB):\n",
    "    print(str(a) + ' ' + b)"
   ],
   "id": "9f8dc2f62e993704",
   "outputs": [
    {
     "name": "stdout",
     "output_type": "stream",
     "text": [
      "3 q\n",
      "4 w\n",
      "5 e\n",
      "6 r\n",
      "3 t\n",
      "-17 y\n",
      "\n",
      "3 q\n",
      "4 w\n",
      "5 e\n",
      "6 r\n",
      "3 t\n",
      "-17 y\n"
     ]
    }
   ],
   "execution_count": 21
  },
  {
   "metadata": {
    "ExecuteTime": {
     "end_time": "2025-07-15T22:15:22.843442Z",
     "start_time": "2025-07-15T22:15:22.838498Z"
    }
   },
   "cell_type": "code",
   "source": [
    "listA = [3, 4, 5, 6 ]\n",
    "listB = ['q', 'w', 'e', 'r', 't', 'y']\n",
    "\n",
    "for a, b in zip(listA, listB):\n",
    "    print(str(a) + ' ' + b)"
   ],
   "id": "26a146ef7e807aec",
   "outputs": [
    {
     "name": "stdout",
     "output_type": "stream",
     "text": [
      "3 q\n",
      "4 w\n",
      "5 e\n",
      "6 r\n"
     ]
    }
   ],
   "execution_count": 22
  },
  {
   "metadata": {
    "ExecuteTime": {
     "end_time": "2025-07-15T22:23:46.159380Z",
     "start_time": "2025-07-15T22:23:46.153913Z"
    }
   },
   "cell_type": "code",
   "source": [
    "# Exercise: given the following lists, create a dictionary using zip\n",
    "names = [ 'alpha', 'beta', 'gamma' ]\n",
    "values = [ 10, 20 , 30 ]\n",
    "result = {}\n",
    "for a, b in zip(names, values):\n",
    "    result[a] = b\n",
    "\n",
    "print(result)\n",
    "\n",
    "result = dict(zip(names, values))\n",
    "print(result)"
   ],
   "id": "a2a4f0eb79456a06",
   "outputs": [
    {
     "name": "stdout",
     "output_type": "stream",
     "text": [
      "{'alpha': 10, 'beta': 20, 'gamma': 30}\n",
      "{'alpha': 10, 'beta': 20, 'gamma': 30}\n"
     ]
    }
   ],
   "execution_count": 24
  }
 ],
 "metadata": {
  "kernelspec": {
   "display_name": "Python 3",
   "language": "python",
   "name": "python3"
  },
  "language_info": {
   "codemirror_mode": {
    "name": "ipython",
    "version": 2
   },
   "file_extension": ".py",
   "mimetype": "text/x-python",
   "name": "python",
   "nbconvert_exporter": "python",
   "pygments_lexer": "ipython2",
   "version": "2.7.6"
  }
 },
 "nbformat": 4,
 "nbformat_minor": 5
}
