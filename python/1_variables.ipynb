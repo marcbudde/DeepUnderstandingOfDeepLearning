{
 "cells": [
  {
   "cell_type": "code",
   "id": "initial_id",
   "metadata": {
    "collapsed": true,
    "ExecuteTime": {
     "end_time": "2025-07-12T10:52:45.912582Z",
     "start_time": "2025-07-12T10:52:45.885136Z"
    }
   },
   "source": "7 + 6",
   "outputs": [
    {
     "data": {
      "text/plain": [
       "3"
      ]
     },
     "execution_count": 5,
     "metadata": {},
     "output_type": "execute_result"
    }
   ],
   "execution_count": 5
  },
  {
   "metadata": {
    "ExecuteTime": {
     "end_time": "2025-07-12T10:54:18.585049Z",
     "start_time": "2025-07-12T10:54:18.559536Z"
    }
   },
   "cell_type": "code",
   "source": "a = 4",
   "id": "2a8b0e4c034830e0",
   "outputs": [],
   "execution_count": 8
  },
  {
   "metadata": {
    "ExecuteTime": {
     "end_time": "2025-07-12T10:55:13.669792Z",
     "start_time": "2025-07-12T10:55:13.663914Z"
    }
   },
   "cell_type": "code",
   "source": "b = 5",
   "id": "72d66db7678689fe",
   "outputs": [],
   "execution_count": 11
  },
  {
   "metadata": {
    "ExecuteTime": {
     "end_time": "2025-07-12T10:58:49.798176Z",
     "start_time": "2025-07-12T10:58:49.792342Z"
    }
   },
   "cell_type": "code",
   "source": [
    "# this code cell inspects the values of the variables\n",
    "print(a) # print out a\n",
    "print(b)\n"
   ],
   "id": "b7104b61e523dd9",
   "outputs": [
    {
     "name": "stdout",
     "output_type": "stream",
     "text": [
      "4\n",
      "5\n"
     ]
    }
   ],
   "execution_count": 15
  },
  {
   "metadata": {
    "ExecuteTime": {
     "end_time": "2025-07-12T11:00:39.726999Z",
     "start_time": "2025-07-12T11:00:39.722006Z"
    }
   },
   "cell_type": "code",
   "source": [
    "# types\n",
    "c = 7\n",
    "d = 7.0\n",
    "\n",
    "print(type(c))\n",
    "type(d)"
   ],
   "id": "88484e3bcba4ad6c",
   "outputs": [
    {
     "data": {
      "text/plain": [
       "float"
      ]
     },
     "execution_count": 18,
     "metadata": {},
     "output_type": "execute_result"
    }
   ],
   "execution_count": 18
  },
  {
   "metadata": {
    "ExecuteTime": {
     "end_time": "2025-07-12T11:02:24.968320Z",
     "start_time": "2025-07-12T11:02:24.963486Z"
    }
   },
   "cell_type": "code",
   "source": [
    "#strings\n",
    "e = 'hello'\n",
    "f = \"My 'name' is Marc.\"\n",
    "\n",
    "print(type(f))\n",
    "print(f)\n"
   ],
   "id": "3bbe3347d89b5bca",
   "outputs": [
    {
     "name": "stdout",
     "output_type": "stream",
     "text": [
      "<class 'str'>\n",
      "My 'name' is Marc.\n"
     ]
    }
   ],
   "execution_count": 23
  },
  {
   "metadata": {},
   "cell_type": "code",
   "source": [
    "# better variable names\n",
    "aVariableName = 10\n",
    "filterOrder = 18\n",
    "user_name = 'mike'\n",
    "param4modelA = 43.58745\n",
    "\n",
    "# not allowed are :\n",
    "#   special characters except _"
   ],
   "id": "3c96b332011306f2",
   "outputs": [],
   "execution_count": null
  },
  {
   "metadata": {},
   "cell_type": "code",
   "source": [
    "# inspect program\n",
    "%whos"
   ],
   "id": "ea663ce34d335988",
   "outputs": [],
   "execution_count": null
  },
  {
   "metadata": {
    "ExecuteTime": {
     "end_time": "2025-07-12T11:09:37.883435Z",
     "start_time": "2025-07-12T11:09:37.868046Z"
    }
   },
   "cell_type": "code",
   "source": [
    "# multiple assignment\n",
    "varA, varB = 3, 'test'\n",
    "\n",
    "print(varA)\n",
    "print(varB)"
   ],
   "id": "dd6afe5e8a1f5bc6",
   "outputs": [
    {
     "name": "stdout",
     "output_type": "stream",
     "text": [
      "3\n",
      "test\n"
     ]
    }
   ],
   "execution_count": 28
  },
  {
   "metadata": {
    "ExecuteTime": {
     "end_time": "2025-07-12T11:11:39.502816Z",
     "start_time": "2025-07-12T11:11:39.483359Z"
    }
   },
   "cell_type": "code",
   "source": [
    "# Exercise\n",
    "# discover whehter it is possible to overwrite existing variables\n",
    "#   - using the same variable type\n",
    "#   - using a different variable type\n",
    "\n",
    "# mine\n",
    "a = 48\n",
    "print(a)\n",
    "a = 'blabla'\n",
    "print(a)\n",
    "\n",
    "# his\n",
    "varA = 8.4\n",
    "print(type(varA))"
   ],
   "id": "655d3d32469b38a9",
   "outputs": [
    {
     "name": "stdout",
     "output_type": "stream",
     "text": [
      "48\n",
      "blabla\n",
      "<class 'float'>\n"
     ]
    }
   ],
   "execution_count": 31
  }
 ],
 "metadata": {
  "kernelspec": {
   "display_name": "Python 3",
   "language": "python",
   "name": "python3"
  },
  "language_info": {
   "codemirror_mode": {
    "name": "ipython",
    "version": 2
   },
   "file_extension": ".py",
   "mimetype": "text/x-python",
   "name": "python",
   "nbconvert_exporter": "python",
   "pygments_lexer": "ipython2",
   "version": "2.7.6"
  }
 },
 "nbformat": 4,
 "nbformat_minor": 5
}
