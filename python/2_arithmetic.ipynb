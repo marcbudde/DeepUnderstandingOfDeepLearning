{
 "cells": [
  {
   "cell_type": "code",
   "id": "initial_id",
   "metadata": {
    "collapsed": true,
    "ExecuteTime": {
     "end_time": "2025-07-12T11:18:34.184714Z",
     "start_time": "2025-07-12T11:18:34.164363Z"
    }
   },
   "source": [
    "x = 7\n",
    "y = 4.3\n",
    "z = 0\n",
    "\n",
    "print(x - 7)\n",
    "# Floating point algebra is not the same as real algebra\n",
    "y + x - 7"
   ],
   "outputs": [
    {
     "name": "stdout",
     "output_type": "stream",
     "text": [
      "0\n"
     ]
    },
    {
     "data": {
      "text/plain": [
       "4.300000000000001"
      ]
     },
     "execution_count": 4,
     "metadata": {},
     "output_type": "execute_result"
    }
   ],
   "execution_count": 4
  },
  {
   "metadata": {
    "ExecuteTime": {
     "end_time": "2025-07-12T11:19:05.813740Z",
     "start_time": "2025-07-12T11:19:05.807694Z"
    }
   },
   "cell_type": "code",
   "source": [
    "c = y + 3.5 * x - 7\n",
    "c"
   ],
   "id": "e02f8a0b4afeb251",
   "outputs": [
    {
     "data": {
      "text/plain": [
       "21.8"
      ]
     },
     "execution_count": 7,
     "metadata": {},
     "output_type": "execute_result"
    }
   ],
   "execution_count": 7
  },
  {
   "metadata": {
    "ExecuteTime": {
     "end_time": "2025-07-12T11:20:37.507949Z",
     "start_time": "2025-07-12T11:20:37.496484Z"
    }
   },
   "cell_type": "code",
   "source": [
    "print(4 / 3)\n",
    "# \\ means continue code on next line - useful later\n",
    "4\\\n",
    "    +3"
   ],
   "id": "bf2f39d70bb07217",
   "outputs": [
    {
     "name": "stdout",
     "output_type": "stream",
     "text": [
      "1.3333333333333333\n"
     ]
    },
    {
     "data": {
      "text/plain": [
       "7"
      ]
     },
     "execution_count": 10,
     "metadata": {},
     "output_type": "execute_result"
    }
   ],
   "execution_count": 10
  },
  {
   "metadata": {
    "ExecuteTime": {
     "end_time": "2025-07-12T11:22:10.274538Z",
     "start_time": "2025-07-12T11:22:10.259415Z"
    }
   },
   "cell_type": "code",
   "source": [
    "# powers\n",
    "print(3**2)\n",
    "# Careful: power has higher precedence than /\n",
    "9**(1/2)"
   ],
   "id": "fa23ec352fc93411",
   "outputs": [
    {
     "name": "stdout",
     "output_type": "stream",
     "text": [
      "9\n"
     ]
    },
    {
     "data": {
      "text/plain": [
       "3.0"
      ]
     },
     "execution_count": 15,
     "metadata": {},
     "output_type": "execute_result"
    }
   ],
   "execution_count": 15
  },
  {
   "metadata": {
    "ExecuteTime": {
     "end_time": "2025-07-12T11:25:07.809119Z",
     "start_time": "2025-07-12T11:25:07.790465Z"
    }
   },
   "cell_type": "code",
   "source": [
    "firstName = 'Mike'\n",
    "lastName = 'Cohen'\n",
    "\n",
    "# concatenation because auf overloading (same operation used in different ways depending on context\n",
    "print(firstName + lastName)\n",
    "\n",
    "fullName = firstName + ' ' + lastName\n",
    "print(fullName)\n",
    "\n",
    "print(firstName * 3)\n"
   ],
   "id": "b74accf53b282e07",
   "outputs": [
    {
     "name": "stdout",
     "output_type": "stream",
     "text": [
      "MikeCohen\n",
      "Mike Cohen\n",
      "MikeMikeMike\n"
     ]
    }
   ],
   "execution_count": 19
  },
  {
   "metadata": {
    "ExecuteTime": {
     "end_time": "2025-07-12T11:28:07.544491Z",
     "start_time": "2025-07-12T11:28:07.526827Z"
    }
   },
   "cell_type": "code",
   "source": [
    "# print mixed variable types\n",
    "print('7 * 3 = 21')\n",
    "\n",
    "print(str(x) + ' + ' + str(y) + ' = ' + str(x + y))"
   ],
   "id": "f68dadace0b8b21d",
   "outputs": [
    {
     "name": "stdout",
     "output_type": "stream",
     "text": [
      "7 * 3 = 21\n",
      "7 + 4.3 = 11.3\n"
     ]
    }
   ],
   "execution_count": 23
  },
  {
   "metadata": {},
   "cell_type": "code",
   "source": [
    "ans = float(input('Give me a number: '))\n",
    "\n",
    "\n",
    "print(ans + 5)"
   ],
   "id": "77a9724e6579485a",
   "outputs": [],
   "execution_count": null
  },
  {
   "metadata": {
    "ExecuteTime": {
     "end_time": "2025-07-12T11:34:58.059178Z",
     "start_time": "2025-07-12T11:34:54.210190Z"
    }
   },
   "cell_type": "code",
   "source": [
    "# Exercise\n",
    "# pythagorean theorem\n",
    "\n",
    "# Get 2 inputs from the user\n",
    "#   side a\n",
    "#   side b\n",
    "a = float(input(\"side a: \"))\n",
    "b = float(input(\"side b: \"))\n",
    "print(\"hypothenuse: \" + str((a**2 + b**2)**(1/2)))"
   ],
   "id": "b39bb7b3d3c567f8",
   "outputs": [
    {
     "name": "stdout",
     "output_type": "stream",
     "text": [
      "hypothenuse: 5.0\n"
     ]
    }
   ],
   "execution_count": 31
  }
 ],
 "metadata": {
  "kernelspec": {
   "display_name": "Python 3",
   "language": "python",
   "name": "python3"
  },
  "language_info": {
   "codemirror_mode": {
    "name": "ipython",
    "version": 2
   },
   "file_extension": ".py",
   "mimetype": "text/x-python",
   "name": "python",
   "nbconvert_exporter": "python",
   "pygments_lexer": "ipython2",
   "version": "2.7.6"
  }
 },
 "nbformat": 4,
 "nbformat_minor": 5
}
