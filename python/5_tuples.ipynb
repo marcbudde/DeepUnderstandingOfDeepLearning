{
 "cells": [
  {
   "cell_type": "code",
   "id": "initial_id",
   "metadata": {
    "collapsed": true
   },
   "source": [
    "# tuple\n",
    "aTuple = ( 3, 'asdf', 4.3 )\n",
    "\n",
    "print(aTuple)\n",
    "print(type(aTuple))\n",
    "\n",
    "print(aTuple*3)\n",
    "\n",
    "aList = [ 3, 'asdf', 4.3 ]\n",
    "\n",
    "# list is mutable, tuple immutable\n",
    "aList[0] = 13\n",
    "print(aList)\n",
    "\n",
    "print(aTuple[0])\n",
    "aTuple[0] = 13\n",
    "print(aList)"
   ],
   "outputs": [],
   "execution_count": null
  },
  {
   "metadata": {},
   "cell_type": "code",
   "outputs": [],
   "execution_count": null,
   "source": "",
   "id": "43ec9f1f7b807b02"
  }
 ],
 "metadata": {
  "kernelspec": {
   "display_name": "Python 3",
   "language": "python",
   "name": "python3"
  },
  "language_info": {
   "codemirror_mode": {
    "name": "ipython",
    "version": 2
   },
   "file_extension": ".py",
   "mimetype": "text/x-python",
   "name": "python",
   "nbconvert_exporter": "python",
   "pygments_lexer": "ipython2",
   "version": "2.7.6"
  }
 },
 "nbformat": 4,
 "nbformat_minor": 5
}
