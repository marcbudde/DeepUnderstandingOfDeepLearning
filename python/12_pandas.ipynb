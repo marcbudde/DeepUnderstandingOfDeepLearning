{
 "cells": [
  {
   "cell_type": "code",
   "id": "initial_id",
   "metadata": {
    "collapsed": true,
    "ExecuteTime": {
     "end_time": "2025-07-13T15:11:50.266148Z",
     "start_time": "2025-07-13T15:11:49.926144Z"
    }
   },
   "source": [
    "import numpy as np\n",
    "import pandas as pd"
   ],
   "outputs": [],
   "execution_count": 2
  },
  {
   "metadata": {
    "ExecuteTime": {
     "end_time": "2025-07-13T15:21:41.222072Z",
     "start_time": "2025-07-13T15:21:41.203278Z"
    }
   },
   "cell_type": "code",
   "source": [
    "np.random.randn() # average of 0, standard deviation of 1 - gaussian distrib\n",
    "np.random.randn(5)\n",
    "np.random.randn(5, 5)\n",
    "\n",
    "# create random data\n",
    "var1 = np.random.randn(100) * 5 + 20\n",
    "var2 = np.random.randn(100) > 0\n",
    "\n",
    "# print(var1)\n",
    "# print(var2)\n",
    "\n",
    "# variable labels\n",
    "labels = [ 'Temp (C)', 'Ice crean' ]\n",
    "\n",
    "# put data and labels into dict\n",
    "D = {labels[0]: var1, labels[1]: var2}\n",
    "# import dictionary into pandas data frame\n",
    "df = pd.DataFrame(data = D)\n",
    "\n",
    "print(type(df))\n",
    "\n",
    "print(df)\n",
    "\n",
    "print(df.head)\n",
    "print(df.count)\n",
    "\n",
    "print(df.mean())"
   ],
   "id": "ef0e0f006d2f56ce",
   "outputs": [
    {
     "name": "stdout",
     "output_type": "stream",
     "text": [
      "<class 'pandas.core.frame.DataFrame'>\n",
      "     Temp (C)  Ice crean\n",
      "0   20.694107      False\n",
      "1   12.887295      False\n",
      "2   17.536376       True\n",
      "3   17.849359       True\n",
      "4   12.198881       True\n",
      "..        ...        ...\n",
      "95  28.967206       True\n",
      "96  24.608282      False\n",
      "97  21.530455      False\n",
      "98  20.024678       True\n",
      "99  22.481029       True\n",
      "\n",
      "[100 rows x 2 columns]\n",
      "<bound method NDFrame.head of      Temp (C)  Ice crean\n",
      "0   20.694107      False\n",
      "1   12.887295      False\n",
      "2   17.536376       True\n",
      "3   17.849359       True\n",
      "4   12.198881       True\n",
      "..        ...        ...\n",
      "95  28.967206       True\n",
      "96  24.608282      False\n",
      "97  21.530455      False\n",
      "98  20.024678       True\n",
      "99  22.481029       True\n",
      "\n",
      "[100 rows x 2 columns]>\n",
      "<bound method DataFrame.count of      Temp (C)  Ice crean\n",
      "0   20.694107      False\n",
      "1   12.887295      False\n",
      "2   17.536376       True\n",
      "3   17.849359       True\n",
      "4   12.198881       True\n",
      "..        ...        ...\n",
      "95  28.967206       True\n",
      "96  24.608282      False\n",
      "97  21.530455      False\n",
      "98  20.024678       True\n",
      "99  22.481029       True\n",
      "\n",
      "[100 rows x 2 columns]>\n",
      "Temp (C)     19.172997\n",
      "Ice crean     0.560000\n",
      "dtype: float64\n"
     ]
    }
   ],
   "execution_count": 18
  },
  {
   "metadata": {
    "ExecuteTime": {
     "end_time": "2025-07-13T15:37:34.221171Z",
     "start_time": "2025-07-13T15:37:34.199634Z"
    }
   },
   "cell_type": "code",
   "source": [
    "# Exercise\n",
    "# create a pandas dataframe with:\n",
    "#  integers going from 0 to 10, their square and their log\n",
    "numbers = np.array(range(11))\n",
    "squares = numbers ** 2\n",
    "logs = np.log(numbers)\n",
    "result = pd.DataFrame(data = {\n",
    "    'number': numbers,\n",
    "    'square': squares,\n",
    "    'log': logs\n",
    "})\n",
    "print(result)"
   ],
   "id": "d82cf4ae1cdaf387",
   "outputs": [
    {
     "name": "stdout",
     "output_type": "stream",
     "text": [
      "    number  square       log\n",
      "0        0       0      -inf\n",
      "1        1       1  0.000000\n",
      "2        2       4  0.693147\n",
      "3        3       9  1.098612\n",
      "4        4      16  1.386294\n",
      "5        5      25  1.609438\n",
      "6        6      36  1.791759\n",
      "7        7      49  1.945910\n",
      "8        8      64  2.079442\n",
      "9        9      81  2.197225\n",
      "10      10     100  2.302585\n"
     ]
    },
    {
     "name": "stderr",
     "output_type": "stream",
     "text": [
      "/tmp/ipykernel_2634/1846196257.py:6: RuntimeWarning: divide by zero encountered in log\n",
      "  logs = np.log(numbers)\n"
     ]
    }
   ],
   "execution_count": 24
  }
 ],
 "metadata": {
  "kernelspec": {
   "display_name": "Python 3",
   "language": "python",
   "name": "python3"
  },
  "language_info": {
   "codemirror_mode": {
    "name": "ipython",
    "version": 2
   },
   "file_extension": ".py",
   "mimetype": "text/x-python",
   "name": "python",
   "nbconvert_exporter": "python",
   "pygments_lexer": "ipython2",
   "version": "2.7.6"
  }
 },
 "nbformat": 4,
 "nbformat_minor": 5
}
