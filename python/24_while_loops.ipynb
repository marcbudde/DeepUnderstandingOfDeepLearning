{
 "cells": [
  {
   "cell_type": "code",
   "id": "initial_id",
   "metadata": {
    "collapsed": true
   },
   "source": [
    "toggle = True\n",
    "i = 0\n",
    "\n",
    "while toggle:\n",
    "    print(i)\n",
    "    i += 1\n",
    "    if i == 8:\n",
    "        toggle = False\n",
    "    # more code inside loop possible here"
   ],
   "outputs": [],
   "execution_count": null
  },
  {
   "metadata": {},
   "cell_type": "code",
   "source": [
    "i = 0\n",
    "while True:\n",
    "    print(i)\n",
    "    i += 1\n",
    "    if i == 8:\n",
    "        break # immediately leaves function"
   ],
   "id": "3406e69f71f61a35",
   "outputs": [],
   "execution_count": null
  },
  {
   "metadata": {},
   "cell_type": "code",
   "source": [
    "i = 0\n",
    "while i < 8:\n",
    "    print(i)\n",
    "    i += 1"
   ],
   "id": "8be1c117e3a92668",
   "outputs": [],
   "execution_count": null
  },
  {
   "metadata": {
    "ExecuteTime": {
     "end_time": "2025-07-16T17:13:33.074121Z",
     "start_time": "2025-07-16T17:13:33.068870Z"
    }
   },
   "cell_type": "code",
   "source": [
    "# for\n",
    "# - prefer when you know in advance the number of iterations\n",
    "# while\n",
    "# - prefer when you do not in advance exactly how many iterations to run"
   ],
   "id": "23269a6511dddcf1",
   "outputs": [],
   "execution_count": 6
  },
  {
   "metadata": {
    "ExecuteTime": {
     "end_time": "2025-07-16T17:26:01.392082Z",
     "start_time": "2025-07-16T17:26:01.380588Z"
    }
   },
   "cell_type": "code",
   "source": [
    "# Exercise: Poisson counter\n",
    "# 1) specify a target number exp(-lambda) -> 10\n",
    "# 2) initialize a counter=0, currval=1\n",
    "# 3) multiply currval by a random number U[0, 1]\n",
    "# 4) repeat step 3 until currval<target\n",
    "# 5) return number of times that you go through steps 3 and 4\n",
    "\n",
    "import numpy as np\n",
    "\n",
    "def poissonCounter(lambdaValue):\n",
    "    target = np.exp(-lambdaValue)\n",
    "    counter = 0\n",
    "    currval = 1\n",
    "    while currval >= target:\n",
    "        counter += 1\n",
    "        currval *= np.random.uniform()\n",
    "    return counter\n",
    "\n",
    "print(poissonCounter(10))"
   ],
   "id": "d38c7bbc3d50e310",
   "outputs": [
    {
     "name": "stdout",
     "output_type": "stream",
     "text": [
      "11\n"
     ]
    }
   ],
   "execution_count": 12
  }
 ],
 "metadata": {
  "kernelspec": {
   "display_name": "Python 3",
   "language": "python",
   "name": "python3"
  },
  "language_info": {
   "codemirror_mode": {
    "name": "ipython",
    "version": 2
   },
   "file_extension": ".py",
   "mimetype": "text/x-python",
   "name": "python",
   "nbconvert_exporter": "python",
   "pygments_lexer": "ipython2",
   "version": "2.7.6"
  }
 },
 "nbformat": 4,
 "nbformat_minor": 5
}
