{
 "cells": [
  {
   "cell_type": "code",
   "id": "initial_id",
   "metadata": {
    "collapsed": true,
    "ExecuteTime": {
     "end_time": "2025-07-12T13:58:27.750224Z",
     "start_time": "2025-07-12T13:58:27.745083Z"
    }
   },
   "source": [
    "lst = [1, 2, 3, 4, 5]\n",
    "\n",
    "print(lst)\n",
    "lst.append(7)\n",
    "print(lst)"
   ],
   "outputs": [
    {
     "name": "stdout",
     "output_type": "stream",
     "text": [
      "[1, 2, 3, 4, 5]\n",
      "[1, 2, 3, 4, 5, 7]\n"
     ]
    }
   ],
   "execution_count": 2
  },
  {
   "metadata": {
    "ExecuteTime": {
     "end_time": "2025-07-12T14:01:18.706181Z",
     "start_time": "2025-07-12T14:01:18.701430Z"
    }
   },
   "cell_type": "code",
   "source": [
    "lst.insert(2, 9)\n",
    "print(lst)\n",
    "\n",
    "lst.insert(4, 'qwerty')\n",
    "print(lst)"
   ],
   "id": "56cdadf642f82366",
   "outputs": [
    {
     "name": "stdout",
     "output_type": "stream",
     "text": [
      "[1, 2, 9, 9, 9, 'qwerty', 3, 4, 5, 7]\n",
      "[1, 2, 9, 9, 'qwerty', 9, 'qwerty', 3, 4, 5, 7]\n"
     ]
    }
   ],
   "execution_count": 6
  },
  {
   "metadata": {},
   "cell_type": "code",
   "source": [
    "lst.remove(9)\n",
    "print(lst)"
   ],
   "id": "ea1992bcccbd616f",
   "outputs": [],
   "execution_count": null
  },
  {
   "metadata": {
    "ExecuteTime": {
     "end_time": "2025-07-12T14:04:44.872722Z",
     "start_time": "2025-07-12T14:04:44.853847Z"
    }
   },
   "cell_type": "code",
   "source": [
    "lst.sort()\n",
    "print(lst)"
   ],
   "id": "c110ea5f2e548551",
   "outputs": [
    {
     "ename": "TypeError",
     "evalue": "'<' not supported between instances of 'str' and 'int'",
     "output_type": "error",
     "traceback": [
      "\u001B[0;31m---------------------------------------------------------------------------\u001B[0m",
      "\u001B[0;31mTypeError\u001B[0m                                 Traceback (most recent call last)",
      "Cell \u001B[0;32mIn[12], line 1\u001B[0m\n\u001B[0;32m----> 1\u001B[0m \u001B[43mlst\u001B[49m\u001B[38;5;241;43m.\u001B[39;49m\u001B[43msort\u001B[49m\u001B[43m(\u001B[49m\u001B[43m)\u001B[49m\n\u001B[1;32m      2\u001B[0m \u001B[38;5;28mprint\u001B[39m(lst)\n",
      "\u001B[0;31mTypeError\u001B[0m: '<' not supported between instances of 'str' and 'int'"
     ]
    }
   ],
   "execution_count": 12
  },
  {
   "metadata": {
    "ExecuteTime": {
     "end_time": "2025-07-12T14:08:49.146087Z",
     "start_time": "2025-07-12T14:08:49.129337Z"
    }
   },
   "cell_type": "code",
   "source": [
    "# Exercise: Remove string and sort list\n",
    "lst = [1, 2, 9, 'qwerty', 4, 5, 3]\n",
    "print(lst)\n",
    "# lst.remove('qwerty')\n",
    "lst.sort()\n",
    "print(lst)\n",
    "lst.sort(reverse=True)\n",
    "print(lst)"
   ],
   "id": "f90caee0e2dccf2",
   "outputs": [
    {
     "name": "stdout",
     "output_type": "stream",
     "text": [
      "[1, 2, 9, 'qwerty', 4, 5, 3]\n",
      "[1, 2, 3, 4, 5, 9]\n",
      "[9, 5, 4, 3, 2, 1]\n"
     ]
    }
   ],
   "execution_count": 21
  }
 ],
 "metadata": {
  "kernelspec": {
   "display_name": "Python 3",
   "language": "python",
   "name": "python3"
  },
  "language_info": {
   "codemirror_mode": {
    "name": "ipython",
    "version": 2
   },
   "file_extension": ".py",
   "mimetype": "text/x-python",
   "name": "python",
   "nbconvert_exporter": "python",
   "pygments_lexer": "ipython2",
   "version": "2.7.6"
  }
 },
 "nbformat": 4,
 "nbformat_minor": 5
}
