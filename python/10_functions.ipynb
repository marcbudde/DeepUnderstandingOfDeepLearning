{
 "cells": [
  {
   "cell_type": "code",
   "id": "initial_id",
   "metadata": {
    "collapsed": true,
    "ExecuteTime": {
     "end_time": "2025-07-13T14:40:47.522157Z",
     "start_time": "2025-07-13T14:40:47.507101Z"
    }
   },
   "source": [
    "var = [10, 20, 30]\n",
    "print(sum(var))\n",
    "var.append('asdf')\n",
    "# print(sum(var))\n",
    "var = [10, 20, 30, [1, 2, 3]]\n",
    "# print(sum(var))"
   ],
   "outputs": [
    {
     "name": "stdout",
     "output_type": "stream",
     "text": [
      "60\n"
     ]
    }
   ],
   "execution_count": 5
  },
  {
   "metadata": {
    "ExecuteTime": {
     "end_time": "2025-07-13T14:46:29.448281Z",
     "start_time": "2025-07-13T14:46:29.439972Z"
    }
   },
   "cell_type": "code",
   "source": [
    "var = [10, 20, 30, 20.5]\n",
    "print(sum(var))\n",
    "output = sum(var)\n",
    "\n",
    "print('The sum is ' + str(output))\n",
    "\n",
    "output = sum(var)"
   ],
   "id": "53a15ba1424d4393",
   "outputs": [
    {
     "name": "stdout",
     "output_type": "stream",
     "text": [
      "80.5\n",
      "The sum is 80.5\n"
     ]
    }
   ],
   "execution_count": 10
  },
  {
   "metadata": {
    "ExecuteTime": {
     "end_time": "2025-07-13T14:48:14.841601Z",
     "start_time": "2025-07-13T14:48:14.828595Z"
    }
   },
   "cell_type": "code",
   "source": [
    "# Exercise: compute the mean (average) of var\n",
    "print(sum(var) / len(var))"
   ],
   "id": "5ab251862a24a7c3",
   "outputs": [
    {
     "name": "stdout",
     "output_type": "stream",
     "text": [
      "20.125\n"
     ]
    }
   ],
   "execution_count": 11
  }
 ],
 "metadata": {
  "kernelspec": {
   "display_name": "Python 3",
   "language": "python",
   "name": "python3"
  },
  "language_info": {
   "codemirror_mode": {
    "name": "ipython",
    "version": 2
   },
   "file_extension": ".py",
   "mimetype": "text/x-python",
   "name": "python",
   "nbconvert_exporter": "python",
   "pygments_lexer": "ipython2",
   "version": "2.7.6"
  }
 },
 "nbformat": 4,
 "nbformat_minor": 5
}
