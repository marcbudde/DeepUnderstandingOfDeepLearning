{
 "cells": [
  {
   "cell_type": "code",
   "id": "initial_id",
   "metadata": {
    "collapsed": true,
    "ExecuteTime": {
     "end_time": "2025-07-13T15:01:51.515900Z",
     "start_time": "2025-07-13T15:01:51.513151Z"
    }
   },
   "source": [
    "import numpy as np\n",
    "from numpy import mean"
   ],
   "outputs": [],
   "execution_count": 18
  },
  {
   "metadata": {
    "ExecuteTime": {
     "end_time": "2025-07-13T14:56:57.523324Z",
     "start_time": "2025-07-13T14:56:57.515687Z"
    }
   },
   "cell_type": "code",
   "source": [
    "numbers = [1, 2, 3, 4, 5]\n",
    "\n",
    "print(np.mean(numbers))\n",
    "\n",
    "x = np.linspace(1, 7, 5) # Output is not a list, but a numpy array\n",
    "print(x)\n",
    "print(type(x))"
   ],
   "id": "66b3d8b94da712b8",
   "outputs": [
    {
     "name": "stdout",
     "output_type": "stream",
     "text": [
      "3.0\n",
      "[1.  2.5 4.  5.5 7. ]\n",
      "<class 'numpy.ndarray'>\n"
     ]
    }
   ],
   "execution_count": 9
  },
  {
   "metadata": {
    "ExecuteTime": {
     "end_time": "2025-07-13T14:57:32.497178Z",
     "start_time": "2025-07-13T14:57:32.493221Z"
    }
   },
   "cell_type": "code",
   "source": [
    "numbers_np = np.array(numbers)\n",
    "print(type(numbers))\n",
    "print(type(numbers_np))"
   ],
   "id": "391cf83a54092f0e",
   "outputs": [
    {
     "name": "stdout",
     "output_type": "stream",
     "text": [
      "<class 'list'>\n",
      "<class 'numpy.ndarray'>\n"
     ]
    }
   ],
   "execution_count": 11
  },
  {
   "metadata": {
    "ExecuteTime": {
     "end_time": "2025-07-13T15:01:41.047685Z",
     "start_time": "2025-07-13T15:01:41.030372Z"
    }
   },
   "cell_type": "code",
   "source": [
    "print(numbers_np.mean())\n",
    "print(numbers_np.max())\n",
    "print(np.max(numbers_np))\n"
   ],
   "id": "9823219458a6a25d",
   "outputs": [
    {
     "name": "stdout",
     "output_type": "stream",
     "text": [
      "3.0\n",
      "5\n",
      "5\n"
     ]
    }
   ],
   "execution_count": 16
  },
  {
   "metadata": {
    "ExecuteTime": {
     "end_time": "2025-07-13T15:02:19.442090Z",
     "start_time": "2025-07-13T15:02:19.424624Z"
    }
   },
   "cell_type": "code",
   "source": "print(mean(numbers_np)) # Only works with \"from numpy import mean\"",
   "id": "12f6905fc07348d9",
   "outputs": [
    {
     "name": "stdout",
     "output_type": "stream",
     "text": [
      "3.0\n"
     ]
    }
   ],
   "execution_count": 20
  },
  {
   "metadata": {
    "ExecuteTime": {
     "end_time": "2025-07-13T15:05:18.375734Z",
     "start_time": "2025-07-13T15:05:18.370736Z"
    }
   },
   "cell_type": "code",
   "source": [
    "# in-place vs out-of-place/not in-place operations\n",
    "n = [ 4, 3, 5, 2, 6, 1, 7 ]\n",
    "\n",
    "# in-place: n.sort()\n",
    "nn = np.array(n)\n",
    "nn.sort()\n",
    "print(nn) # also inline\n",
    "\n",
    "nn = np.array(n)\n",
    "print(np.sort(nn))\n",
    "print(nn) # array itself unchanged\n",
    "\n",
    "nns = np.sort(nn)\n",
    "print(nns)"
   ],
   "id": "fc256c3635de41e5",
   "outputs": [
    {
     "name": "stdout",
     "output_type": "stream",
     "text": [
      "[1 2 3 4 5 6 7]\n",
      "[1 2 3 4 5 6 7]\n",
      "[4 3 5 2 6 1 7]\n",
      "[1 2 3 4 5 6 7]\n"
     ]
    }
   ],
   "execution_count": 24
  }
 ],
 "metadata": {
  "kernelspec": {
   "display_name": "Python 3",
   "language": "python",
   "name": "python3"
  },
  "language_info": {
   "codemirror_mode": {
    "name": "ipython",
    "version": 2
   },
   "file_extension": ".py",
   "mimetype": "text/x-python",
   "name": "python",
   "nbconvert_exporter": "python",
   "pygments_lexer": "ipython2",
   "version": "2.7.6"
  }
 },
 "nbformat": 4,
 "nbformat_minor": 5
}
