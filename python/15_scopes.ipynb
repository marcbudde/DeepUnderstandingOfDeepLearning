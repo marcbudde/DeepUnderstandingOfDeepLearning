{
 "cells": [
  {
   "cell_type": "code",
   "id": "initial_id",
   "metadata": {
    "collapsed": true,
    "ExecuteTime": {
     "end_time": "2025-07-13T16:39:00.457186Z",
     "start_time": "2025-07-13T16:39:00.435494Z"
    }
   },
   "source": [
    "# local and global scope\n",
    "\n",
    "def funfun():\n",
    "    x = 7\n",
    "    y = 10\n",
    "    print(x)\n",
    "\n",
    "funfun()\n",
    "\n",
    "# x does not exist outside of defining function"
   ],
   "outputs": [
    {
     "name": "stdout",
     "output_type": "stream",
     "text": [
      "7\n"
     ]
    }
   ],
   "execution_count": 2
  },
  {
   "metadata": {
    "ExecuteTime": {
     "end_time": "2025-07-13T16:40:11.461912Z",
     "start_time": "2025-07-13T16:40:11.445984Z"
    }
   },
   "cell_type": "code",
   "source": [
    "x = 3\n",
    "print(x)\n",
    "funfun()\n",
    "print(x)"
   ],
   "id": "eae3e9af58de62e3",
   "outputs": [
    {
     "name": "stdout",
     "output_type": "stream",
     "text": [
      "3\n",
      "7\n",
      "3\n"
     ]
    }
   ],
   "execution_count": 5
  },
  {
   "metadata": {
    "ExecuteTime": {
     "end_time": "2025-07-13T16:43:26.158863Z",
     "start_time": "2025-07-13T16:43:26.148206Z"
    }
   },
   "cell_type": "code",
   "source": [
    "def f2():\n",
    "    print(z)\n",
    "\n",
    "z = 23\n",
    "f2() # Global var accessed in function\n",
    "\n",
    "# 1) Variables created inside a function are local, only accesible inside the function\n",
    "# 2) Variables created outside a function are global, accessible outside AND inside functions"
   ],
   "id": "f4c1c24d2b396ba5",
   "outputs": [
    {
     "name": "stdout",
     "output_type": "stream",
     "text": [
      "23\n"
     ]
    }
   ],
   "execution_count": 8
  },
  {
   "metadata": {
    "ExecuteTime": {
     "end_time": "2025-07-13T16:58:54.690538Z",
     "start_time": "2025-07-13T16:58:54.674885Z"
    }
   },
   "cell_type": "code",
   "source": [
    "# Exercise: Write a function that flips a coin N times and reports the average\n",
    "import numpy as np\n",
    "\n",
    "def flipCoin(n):\n",
    "    return (np.random.randn(n) > 0).mean()\n",
    "\n",
    "print(flipCoin(10))"
   ],
   "id": "64fe3c71d26075f5",
   "outputs": [
    {
     "name": "stdout",
     "output_type": "stream",
     "text": [
      "0.4\n"
     ]
    }
   ],
   "execution_count": 144
  }
 ],
 "metadata": {
  "kernelspec": {
   "display_name": "Python 3",
   "language": "python",
   "name": "python3"
  },
  "language_info": {
   "codemirror_mode": {
    "name": "ipython",
    "version": 2
   },
   "file_extension": ".py",
   "mimetype": "text/x-python",
   "name": "python",
   "nbconvert_exporter": "python",
   "pygments_lexer": "ipython2",
   "version": "2.7.6"
  }
 },
 "nbformat": 4,
 "nbformat_minor": 5
}
