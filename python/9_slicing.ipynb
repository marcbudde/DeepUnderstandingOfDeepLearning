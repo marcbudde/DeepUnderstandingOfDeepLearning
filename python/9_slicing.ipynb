{
 "cells": [
  {
   "cell_type": "code",
   "id": "initial_id",
   "metadata": {
    "collapsed": true,
    "ExecuteTime": {
     "end_time": "2025-07-13T12:19:19.839327Z",
     "start_time": "2025-07-13T12:19:19.807331Z"
    }
   },
   "source": [
    "a = range(5, 11)\n",
    "# range is a special type!\n",
    "type(a)\n",
    "# upper bound is exlusive"
   ],
   "outputs": [
    {
     "data": {
      "text/plain": [
       "range"
      ]
     },
     "execution_count": 9,
     "metadata": {},
     "output_type": "execute_result"
    }
   ],
   "execution_count": 9
  },
  {
   "metadata": {
    "ExecuteTime": {
     "end_time": "2025-07-13T12:19:40.778002Z",
     "start_time": "2025-07-13T12:19:40.763963Z"
    }
   },
   "cell_type": "code",
   "source": [
    "a = list(a)\n",
    "print(a)"
   ],
   "id": "49086c8716f3acd",
   "outputs": [
    {
     "name": "stdout",
     "output_type": "stream",
     "text": [
      "[5, 6, 7, 8, 9, 10]\n"
     ]
    }
   ],
   "execution_count": 11
  },
  {
   "metadata": {
    "ExecuteTime": {
     "end_time": "2025-07-13T12:19:42.548492Z",
     "start_time": "2025-07-13T12:19:42.532117Z"
    }
   },
   "cell_type": "code",
   "source": [
    "# upper bound is exlusive\n",
    "a[0:3]"
   ],
   "id": "c66e5521c9d34842",
   "outputs": [
    {
     "data": {
      "text/plain": [
       "[5, 6, 7]"
      ]
     },
     "execution_count": 12,
     "metadata": {},
     "output_type": "execute_result"
    }
   ],
   "execution_count": 12
  },
  {
   "metadata": {
    "ExecuteTime": {
     "end_time": "2025-07-13T12:20:42.564104Z",
     "start_time": "2025-07-13T12:20:42.552860Z"
    }
   },
   "cell_type": "code",
   "source": [
    "print(a[1:3])\n",
    "# no upper bound means to the end\n",
    "print(a[0:])"
   ],
   "id": "da59e2095fa994b0",
   "outputs": [
    {
     "name": "stdout",
     "output_type": "stream",
     "text": [
      "[6, 7]\n",
      "[5, 6, 7, 8, 9, 10]\n"
     ]
    }
   ],
   "execution_count": 15
  },
  {
   "metadata": {
    "ExecuteTime": {
     "end_time": "2025-07-13T12:26:28.327607Z",
     "start_time": "2025-07-13T12:26:28.321765Z"
    }
   },
   "cell_type": "code",
   "source": [
    "print(a[::2])\n",
    "print(a[1::2])\n",
    "print(a[3:3:2])"
   ],
   "id": "ffa616443669e2df",
   "outputs": [
    {
     "name": "stdout",
     "output_type": "stream",
     "text": [
      "[5, 7, 9]\n",
      "[6, 8, 10]\n",
      "[]\n"
     ]
    }
   ],
   "execution_count": 22
  },
  {
   "metadata": {
    "ExecuteTime": {
     "end_time": "2025-07-13T12:28:29.286730Z",
     "start_time": "2025-07-13T12:28:29.282577Z"
    }
   },
   "cell_type": "code",
   "source": [
    "# Exercise\n",
    "text = '345dfyug ecin a si ekiM 93845d'\n",
    "# use slicing to write \"Mike is a nice guy\" from the list text\n",
    "print(text[-8:4:-1])\n",
    "# slicing also works on strings!"
   ],
   "id": "8f0c2738d45d1d22",
   "outputs": [
    {
     "name": "stdout",
     "output_type": "stream",
     "text": [
      "Mike is a nice guy\n"
     ]
    }
   ],
   "execution_count": 24
  }
 ],
 "metadata": {
  "kernelspec": {
   "display_name": "Python 3",
   "language": "python",
   "name": "python3"
  },
  "language_info": {
   "codemirror_mode": {
    "name": "ipython",
    "version": 2
   },
   "file_extension": ".py",
   "mimetype": "text/x-python",
   "name": "python",
   "nbconvert_exporter": "python",
   "pygments_lexer": "ipython2",
   "version": "2.7.6"
  }
 },
 "nbformat": 4,
 "nbformat_minor": 5
}
