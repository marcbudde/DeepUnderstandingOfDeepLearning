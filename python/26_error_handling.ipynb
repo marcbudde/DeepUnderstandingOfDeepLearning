{
 "cells": [
  {
   "cell_type": "code",
   "id": "initial_id",
   "metadata": {
    "collapsed": true,
    "ExecuteTime": {
     "end_time": "2025-07-17T06:34:57.131201Z",
     "start_time": "2025-07-17T06:34:57.094944Z"
    }
   },
   "source": [
    "# create a function that will input two numbers and output their product\n",
    "\n",
    "def funfun(x, y):\n",
    "    # check that input are numeric\n",
    "    if not isinstance(x, int):\n",
    "        raise Exception('x must be an int')\n",
    "    z = x * y\n",
    "    return z\n",
    "\n",
    "funfun(2, 3)\n",
    "funfun(2, 'hi') # -> 'hihi' Assume: This is unintended behaviour\n",
    "\n",
    "\n",
    "\n"
   ],
   "outputs": [
    {
     "data": {
      "text/plain": [
       "'hihi'"
      ]
     },
     "execution_count": 3,
     "metadata": {},
     "output_type": "execute_result"
    }
   ],
   "execution_count": 3
  },
  {
   "metadata": {
    "ExecuteTime": {
     "end_time": "2025-07-17T06:37:27.357596Z",
     "start_time": "2025-07-17T06:37:27.328545Z"
    }
   },
   "cell_type": "code",
   "source": [
    "# create a function that will input two numbers and output their product\n",
    "\n",
    "def funfun(x, y):\n",
    "    # check that input are numeric\n",
    "    if not isinstance(x, (int, float)):\n",
    "        raise Exception('x must be an int')\n",
    "    if not isinstance(y, (int, float)):\n",
    "        raise Exception('y must be an int')\n",
    "    z = x * y\n",
    "    return z\n",
    "\n",
    "# funfun('hihi', 3)\n",
    "funfun(2.5, 3)\n"
   ],
   "id": "ee651b9199267bf0",
   "outputs": [
    {
     "data": {
      "text/plain": [
       "7.5"
      ]
     },
     "execution_count": 7,
     "metadata": {},
     "output_type": "execute_result"
    }
   ],
   "execution_count": 7
  },
  {
   "metadata": {
    "ExecuteTime": {
     "end_time": "2025-07-17T06:50:13.023201Z",
     "start_time": "2025-07-17T06:50:13.013801Z"
    }
   },
   "cell_type": "code",
   "source": [
    "# Exercise: Following call should work - make it do so\n",
    "# funfun('2', 3)\n",
    "\n",
    "def funfun(x, y):\n",
    "    if isinstance(x, str) and x.isnumeric():\n",
    "        x = float(x)\n",
    "    # check that input are numeric\n",
    "    if not isinstance(x, (int, float, str)):\n",
    "        raise Exception('x must be an int')\n",
    "    if not isinstance(y, (int, float)):\n",
    "        raise Exception('y must be an int')\n",
    "    z = x * y\n",
    "    return z\n",
    "\n",
    "funfun('2', 3)"
   ],
   "id": "63e10f69fe069458",
   "outputs": [
    {
     "data": {
      "text/plain": [
       "6.0"
      ]
     },
     "execution_count": 18,
     "metadata": {},
     "output_type": "execute_result"
    }
   ],
   "execution_count": 18
  },
  {
   "metadata": {
    "ExecuteTime": {
     "end_time": "2025-07-17T06:54:16.743962Z",
     "start_time": "2025-07-17T06:54:16.729092Z"
    }
   },
   "cell_type": "code",
   "source": [
    "def funfunfun(x, y):\n",
    "    z = 0\n",
    "    try:\n",
    "        z = x**y\n",
    "        print('I am here.')\n",
    "    except:\n",
    "        print(\"Could not complete the mission\")\n",
    "    return z\n",
    "\n",
    "# funfunfun(2, 4)\n",
    "funfunfun(2, 'asdf') # ** not overloaded for str"
   ],
   "id": "7d0c3059a0819f1c",
   "outputs": [
    {
     "name": "stdout",
     "output_type": "stream",
     "text": [
      "Could not complete the mission\n"
     ]
    },
    {
     "data": {
      "text/plain": [
       "0"
      ]
     },
     "execution_count": 24,
     "metadata": {},
     "output_type": "execute_result"
    }
   ],
   "execution_count": 24
  }
 ],
 "metadata": {
  "kernelspec": {
   "display_name": "Python 3",
   "language": "python",
   "name": "python3"
  },
  "language_info": {
   "codemirror_mode": {
    "name": "ipython",
    "version": 2
   },
   "file_extension": ".py",
   "mimetype": "text/x-python",
   "name": "python",
   "nbconvert_exporter": "python",
   "pygments_lexer": "ipython2",
   "version": "2.7.6"
  }
 },
 "nbformat": 4,
 "nbformat_minor": 5
}
