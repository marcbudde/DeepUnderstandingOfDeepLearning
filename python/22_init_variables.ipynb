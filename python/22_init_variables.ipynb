{
 "cells": [
  {
   "cell_type": "code",
   "id": "initial_id",
   "metadata": {
    "collapsed": true,
    "ExecuteTime": {
     "end_time": "2025-07-16T04:53:11.011337Z",
     "start_time": "2025-07-16T04:53:10.984543Z"
    }
   },
   "source": [
    "# initializing\n",
    "import numpy as np"
   ],
   "outputs": [],
   "execution_count": 4
  },
  {
   "metadata": {
    "ExecuteTime": {
     "end_time": "2025-07-16T04:55:52.678516Z",
     "start_time": "2025-07-16T04:55:52.664280Z"
    }
   },
   "cell_type": "code",
   "source": [
    "r = np.zeros(10)\n",
    "\n",
    "for i in range(10):\n",
    "    r[i] = i**2\n",
    "\n",
    "print(r)\n",
    "\n",
    "\n",
    "N = 12\n",
    "r = np.full(N, 0)\n",
    "\n",
    "for i in range(N):\n",
    "    r[i] = i**2\n",
    "\n",
    "print(r)"
   ],
   "id": "1ef92cf3505c7abf",
   "outputs": [
    {
     "name": "stdout",
     "output_type": "stream",
     "text": [
      "[ 0.  1.  4.  9. 16. 25. 36. 49. 64. 81.]\n",
      "[  0   1   4   9  16  25  36  49  64  81 100 121]\n"
     ]
    }
   ],
   "execution_count": 8
  },
  {
   "metadata": {
    "ExecuteTime": {
     "end_time": "2025-07-16T04:59:20.070450Z",
     "start_time": "2025-07-16T04:59:20.051743Z"
    }
   },
   "cell_type": "code",
   "source": [
    "r = []\n",
    "del r\n",
    "# print(r) # fails, because r removed\n",
    "\n",
    "# init n-dim matrix\n",
    "r = np.zeros((4, 5))\n",
    "print(r)"
   ],
   "id": "b926546e0801e7ef",
   "outputs": [
    {
     "name": "stdout",
     "output_type": "stream",
     "text": [
      "[[0. 0. 0. 0. 0.]\n",
      " [0. 0. 0. 0. 0.]\n",
      " [0. 0. 0. 0. 0.]\n",
      " [0. 0. 0. 0. 0.]]\n"
     ]
    }
   ],
   "execution_count": 12
  },
  {
   "metadata": {
    "ExecuteTime": {
     "end_time": "2025-07-16T05:01:16.262965Z",
     "start_time": "2025-07-16T05:01:16.251587Z"
    }
   },
   "cell_type": "code",
   "source": [
    "r = np.array([])\n",
    "\n",
    "for i in range(10):\n",
    "    r = np.append(r, i**2) # append is immutable operation\n",
    "\n",
    "print(r)"
   ],
   "id": "340d1c52ca1d6221",
   "outputs": [
    {
     "name": "stdout",
     "output_type": "stream",
     "text": [
      "[ 0.  1.  4.  9. 16. 25. 36. 49. 64. 81.]\n"
     ]
    }
   ],
   "execution_count": 15
  },
  {
   "metadata": {
    "ExecuteTime": {
     "end_time": "2025-07-16T05:23:19.928912Z",
     "start_time": "2025-07-16T05:23:17.854493Z"
    }
   },
   "cell_type": "code",
   "source": [
    "# Exercise: compare three methods of creating an array\n",
    "# N = 10_000\n",
    "# r[i] = i ** 2\n",
    "# time test: import time -> time.perf_counter()\n",
    "import time\n",
    "\n",
    "N = 100_000\n",
    "\n",
    "start = time.perf_counter()\n",
    "r = []\n",
    "for i in range(N):\n",
    "    r.append(i ** 2)\n",
    "print('Time elapsed: ' + str(time.perf_counter() - start))\n",
    "\n",
    "start = time.perf_counter()\n",
    "r = np.array([])\n",
    "for i in range(N):\n",
    "    r = np.append(r, i ** 2)\n",
    "print('Time elapsed: ' + str(time.perf_counter() - start))\n",
    "\n",
    "start = time.perf_counter()\n",
    "r = np.zeros(N)\n",
    "for i in range(N):\n",
    "    r[i] = i ** 2\n",
    "print('Time elapsed: ' + str(time.perf_counter() - start))"
   ],
   "id": "d524f54730efd2ee",
   "outputs": [
    {
     "name": "stdout",
     "output_type": "stream",
     "text": [
      "Time elapsed: 0.03842150699983904\n",
      "Time elapsed: 1.9937938549996943\n",
      "Time elapsed: 0.027693485999861878\n"
     ]
    }
   ],
   "execution_count": 23
  }
 ],
 "metadata": {
  "kernelspec": {
   "display_name": "Python 3",
   "language": "python",
   "name": "python3"
  },
  "language_info": {
   "codemirror_mode": {
    "name": "ipython",
    "version": 2
   },
   "file_extension": ".py",
   "mimetype": "text/x-python",
   "name": "python",
   "nbconvert_exporter": "python",
   "pygments_lexer": "ipython2",
   "version": "2.7.6"
  }
 },
 "nbformat": 4,
 "nbformat_minor": 5
}
