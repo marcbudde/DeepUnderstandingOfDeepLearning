{
 "cells": [
  {
   "cell_type": "code",
   "id": "initial_id",
   "metadata": {
    "collapsed": true,
    "ExecuteTime": {
     "end_time": "2025-07-13T22:03:31.392842Z",
     "start_time": "2025-07-13T22:03:31.384349Z"
    }
   },
   "source": [
    "# if statements\n",
    "\n",
    "# conditional\n",
    "if True:\n",
    "    print(\"This is true!\")\n",
    "\n",
    "print('Outside if')"
   ],
   "outputs": [
    {
     "name": "stdout",
     "output_type": "stream",
     "text": [
      "This is true!\n",
      "Outside if\n"
     ]
    }
   ],
   "execution_count": 5
  },
  {
   "metadata": {
    "ExecuteTime": {
     "end_time": "2025-07-13T22:06:00.589625Z",
     "start_time": "2025-07-13T22:06:00.570203Z"
    }
   },
   "cell_type": "code",
   "source": [
    "x = 4\n",
    "\n",
    "if x == 4:\n",
    "    print(\"The analysis finished correctly!\")\n",
    "\n",
    "print('Outside if')"
   ],
   "id": "26144fbbc823a7d7",
   "outputs": [
    {
     "name": "stdout",
     "output_type": "stream",
     "text": [
      "The analysis finished correctly!\n",
      "Outside if\n"
     ]
    }
   ],
   "execution_count": 11
  },
  {
   "metadata": {
    "ExecuteTime": {
     "end_time": "2025-07-13T22:10:53.223038Z",
     "start_time": "2025-07-13T22:10:53.082493Z"
    }
   },
   "cell_type": "code",
   "source": [
    "import numpy as np\n",
    "\n",
    "r = np.random.randn()\n",
    "\n",
    "if r > 0:\n",
    "    outcome = 'positive'\n",
    "else:\n",
    "    outcome = 'negative'\n",
    "print('the number is ' + outcome)"
   ],
   "id": "f9918a59f66ca4b1",
   "outputs": [
    {
     "name": "stdout",
     "output_type": "stream",
     "text": [
      "the number is negative\n"
     ]
    }
   ],
   "execution_count": 56
  },
  {
   "metadata": {
    "ExecuteTime": {
     "end_time": "2025-07-14T06:44:51.829761Z",
     "start_time": "2025-07-14T06:44:51.821394Z"
    }
   },
   "cell_type": "code",
   "source": [
    "caketype = 'chocolate'\n",
    "\n",
    "if caketype == 'carrot':\n",
    "    print('Total yum!')\n",
    "elif caketype == 'chocolate':\n",
    "    print('Yummy as well!')\n",
    "elif caketype == 'fruitcake':\n",
    "    print('Is this thing good for me?')\n",
    "else:\n",
    "    print(\"Okay, I'll try it\")\n",
    "\n",
    "print('Enough with the cake')"
   ],
   "id": "f0547e54d8a2e8e9",
   "outputs": [
    {
     "name": "stdout",
     "output_type": "stream",
     "text": [
      "Yummy as well!\n",
      "Enough with the cake\n"
     ]
    }
   ],
   "execution_count": 1
  },
  {
   "metadata": {
    "ExecuteTime": {
     "end_time": "2025-07-14T06:48:28.982396Z",
     "start_time": "2025-07-14T06:48:28.977365Z"
    }
   },
   "cell_type": "code",
   "source": [
    "# single line\n",
    "if caketype[0] == 'c': print('cookie starts with c')\n"
   ],
   "id": "f4a2e4ab471b1627",
   "outputs": [
    {
     "name": "stdout",
     "output_type": "stream",
     "text": [
      "cookie starts with c\n"
     ]
    }
   ],
   "execution_count": 3
  },
  {
   "metadata": {
    "ExecuteTime": {
     "end_time": "2025-07-14T06:51:35.154194Z",
     "start_time": "2025-07-14T06:51:35.148357Z"
    }
   },
   "cell_type": "code",
   "source": [
    "caketype = 'Carrot'\n",
    "\n",
    "if caketype[0] == 'c':\n",
    "    print('cookie starts with c')\n",
    "else:\n",
    "    print('I dunno.')\n",
    "\n",
    "print('cookie starts with c') if caketype[0].lower() == 'c' else print('I dunno.')"
   ],
   "id": "aead7698983fcd4d",
   "outputs": [
    {
     "name": "stdout",
     "output_type": "stream",
     "text": [
      "I dunno.\n",
      "cookie starts with c\n"
     ]
    }
   ],
   "execution_count": 9
  },
  {
   "metadata": {
    "ExecuteTime": {
     "end_time": "2025-07-14T06:52:54.655883Z",
     "start_time": "2025-07-14T06:52:54.648294Z"
    }
   },
   "cell_type": "code",
   "source": [
    "# conjunctive conditionals\n",
    "if 1 < 3 and 4 == 5:\n",
    "    print('Both conditionals are true')\n",
    "else:\n",
    "    print('At least one conditional is false')"
   ],
   "id": "682e3a043fa84ed4",
   "outputs": [
    {
     "name": "stdout",
     "output_type": "stream",
     "text": [
      "At least one conditional is false\n"
     ]
    }
   ],
   "execution_count": 12
  },
  {
   "metadata": {
    "ExecuteTime": {
     "end_time": "2025-07-14T07:07:59.322157Z",
     "start_time": "2025-07-14T07:07:59.307638Z"
    }
   },
   "cell_type": "code",
   "source": [
    "# Exercise\n",
    "# Create a function that computes the dot product\n",
    "# 1) Check that both inputs are numpy arrays (isinstance())\n",
    "# 2) Check that the two input are the same length\n",
    "# 3)a) break out of the function and give a helpful error message\n",
    "#    raise exception\n",
    "# 3)b) compute and return do product\n",
    "\n",
    "import numpy as np\n",
    "\n",
    "def dot_product(v1, v2):\n",
    "    if not (isinstance(v1, np.ndarray) and isinstance(v2, np.ndarray)):\n",
    "        raise Exception(\"no dot product - not two numpy arrays\")\n",
    "    if len(v1) != len(v2):\n",
    "        raise Exception(\"no dot product - lengths not equal\")\n",
    "    return sum(v1 * v2)\n",
    "\n",
    "print(dot_product(np.array([ 1, 2, 3 ]), np.array([ 13, 4, 1 ])))"
   ],
   "id": "54f753fda9746b46",
   "outputs": [
    {
     "name": "stdout",
     "output_type": "stream",
     "text": [
      "24\n"
     ]
    }
   ],
   "execution_count": 25
  }
 ],
 "metadata": {
  "kernelspec": {
   "display_name": "Python 3",
   "language": "python",
   "name": "python3"
  },
  "language_info": {
   "codemirror_mode": {
    "name": "ipython",
    "version": 2
   },
   "file_extension": ".py",
   "mimetype": "text/x-python",
   "name": "python",
   "nbconvert_exporter": "python",
   "pygments_lexer": "ipython2",
   "version": "2.7.6"
  }
 },
 "nbformat": 4,
 "nbformat_minor": 5
}
