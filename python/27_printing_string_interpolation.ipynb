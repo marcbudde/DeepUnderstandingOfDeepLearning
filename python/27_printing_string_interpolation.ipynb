{
 "cells": [
  {
   "cell_type": "code",
   "id": "initial_id",
   "metadata": {
    "collapsed": true,
    "ExecuteTime": {
     "end_time": "2025-07-18T06:06:16.073843Z",
     "start_time": "2025-07-18T06:06:16.068989Z"
    }
   },
   "source": [
    "num = 11.7\n",
    "sng = 'cellar doors'\n",
    "\n",
    "print('I would like to have ' + str(num) + ' ' + sng + '.')"
   ],
   "outputs": [
    {
     "name": "stdout",
     "output_type": "stream",
     "text": [
      "I would like to have 11.7 cellar doors.\n"
     ]
    }
   ],
   "execution_count": 3
  },
  {
   "metadata": {
    "ExecuteTime": {
     "end_time": "2025-07-18T06:09:59.813069Z",
     "start_time": "2025-07-18T06:09:59.791764Z"
    }
   },
   "cell_type": "code",
   "source": "print('I would like to have %g %s.' %(num, sng)) # g is for number",
   "id": "9fa9856a81ae0b1d",
   "outputs": [
    {
     "name": "stdout",
     "output_type": "stream",
     "text": [
      "I would like to have 11.7 cellar doors.\n"
     ]
    }
   ],
   "execution_count": 8
  },
  {
   "metadata": {
    "ExecuteTime": {
     "end_time": "2025-07-18T06:12:03.197796Z",
     "start_time": "2025-07-18T06:12:03.191021Z"
    }
   },
   "cell_type": "code",
   "source": [
    "print('I would like to have %.2f %s.' %(num, sng))\n",
    "\n",
    "num = 11.75384752\n",
    "print('I would like to have %8.3f %s.' %(num, sng)) # 8 is total character width"
   ],
   "id": "5527884430898cfa",
   "outputs": [
    {
     "name": "stdout",
     "output_type": "stream",
     "text": [
      "I would like to have 11.75 cellar doors.\n",
      "I would like to have   11.754 cellar doors.\n"
     ]
    }
   ],
   "execution_count": 22
  },
  {
   "metadata": {
    "ExecuteTime": {
     "end_time": "2025-07-18T06:17:07.656804Z",
     "start_time": "2025-07-18T06:17:07.638781Z"
    }
   },
   "cell_type": "code",
   "source": [
    "# f-strings\n",
    "print(f'I would like to have {num:.2f} {sng}.')\n",
    "\n",
    "# Also, str is an object\n",
    "print('I would like to have {num:.2f} {sng}.'.format(num=num,sng=sng)) # Replacement vars at the end"
   ],
   "id": "59de32d0818de498",
   "outputs": [
    {
     "name": "stdout",
     "output_type": "stream",
     "text": [
      "I would like to have 11.75 cellar doors.\n",
      "I would like to have 11.75 cellar doors.\n"
     ]
    }
   ],
   "execution_count": 28
  },
  {
   "metadata": {
    "ExecuteTime": {
     "end_time": "2025-07-18T06:33:10.422936Z",
     "start_time": "2025-07-18T06:33:10.398369Z"
    }
   },
   "cell_type": "code",
   "source": [
    "# Exercise\n",
    "# Print out each letter of the alphabet with its ordinal position\n",
    "import string\n",
    "alphabet = string.ascii_lowercase\n",
    "positions = ['1st', '2nd', '3rd']\n",
    "positions.extend([f'{i + 1}th' for i in range(3, len(alphabet))])\n",
    "for i, l in zip(positions, alphabet):\n",
    "    print(f'{l} is the {i} letter.')\n",
    "\n",
    "# Still wrong for 21st, 22nd, 23rd !"
   ],
   "id": "e8fd8c025cf03a8f",
   "outputs": [
    {
     "name": "stdout",
     "output_type": "stream",
     "text": [
      "a is the 1st letter.\n",
      "b is the 2nd letter.\n",
      "c is the 3rd letter.\n",
      "d is the 4th letter.\n",
      "e is the 5th letter.\n",
      "f is the 6th letter.\n",
      "g is the 7th letter.\n",
      "h is the 8th letter.\n",
      "i is the 9th letter.\n",
      "j is the 10th letter.\n",
      "k is the 11th letter.\n",
      "l is the 12th letter.\n",
      "m is the 13th letter.\n",
      "n is the 14th letter.\n",
      "o is the 15th letter.\n",
      "p is the 16th letter.\n",
      "q is the 17th letter.\n",
      "r is the 18th letter.\n",
      "s is the 19th letter.\n",
      "t is the 20th letter.\n",
      "u is the 21th letter.\n",
      "v is the 22th letter.\n",
      "w is the 23th letter.\n",
      "x is the 24th letter.\n",
      "y is the 25th letter.\n",
      "z is the 26th letter.\n"
     ]
    }
   ],
   "execution_count": 40
  }
 ],
 "metadata": {
  "kernelspec": {
   "display_name": "Python 3",
   "language": "python",
   "name": "python3"
  },
  "language_info": {
   "codemirror_mode": {
    "name": "ipython",
    "version": 2
   },
   "file_extension": ".py",
   "mimetype": "text/x-python",
   "name": "python",
   "nbconvert_exporter": "python",
   "pygments_lexer": "ipython2",
   "version": "2.7.6"
  }
 },
 "nbformat": 4,
 "nbformat_minor": 5
}
