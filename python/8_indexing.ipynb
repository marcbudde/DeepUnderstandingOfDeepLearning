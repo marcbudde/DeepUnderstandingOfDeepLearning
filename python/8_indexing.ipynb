{
 "cells": [
  {
   "cell_type": "code",
   "id": "initial_id",
   "metadata": {
    "collapsed": true,
    "ExecuteTime": {
     "end_time": "2025-07-13T12:06:01.453917Z",
     "start_time": "2025-07-13T12:06:01.448275Z"
    }
   },
   "source": [
    "aList = [ 4, 6, 2, -6, 'qwerty', 10.01 ]\n",
    "\n",
    "print(aList[3])\n",
    "\n",
    "aTuple = aList = ( 4, 6, 2, -6, 'qwerty', 10.01 )\n",
    "print(aTuple[4])"
   ],
   "outputs": [
    {
     "name": "stdout",
     "output_type": "stream",
     "text": [
      "-6\n",
      "qwerty\n"
     ]
    }
   ],
   "execution_count": 4
  },
  {
   "metadata": {
    "ExecuteTime": {
     "end_time": "2025-07-13T12:08:59.447411Z",
     "start_time": "2025-07-13T12:08:59.439382Z"
    }
   },
   "cell_type": "code",
   "source": [
    "idx = 4.0\n",
    "print(aList[int(idx)])\n",
    "\n",
    "# last element\n",
    "print(aList[len(aList) - 1])\n",
    "\n",
    "print(aList[-1])\n",
    "print(aList[-2])"
   ],
   "id": "87bd349fad1abcbd",
   "outputs": [
    {
     "name": "stdout",
     "output_type": "stream",
     "text": [
      "qwerty\n",
      "10.01\n",
      "10.01\n",
      "qwerty\n"
     ]
    }
   ],
   "execution_count": 8
  },
  {
   "metadata": {
    "ExecuteTime": {
     "end_time": "2025-07-13T12:10:27.687604Z",
     "start_time": "2025-07-13T12:10:27.678628Z"
    }
   },
   "cell_type": "code",
   "source": [
    "idx = [3, 5]\n",
    "# This is not possible, has to be done by slicing\n",
    "# aList[idx]"
   ],
   "id": "cd4b4e2c9fa94209",
   "outputs": [],
   "execution_count": 10
  },
  {
   "metadata": {
    "ExecuteTime": {
     "end_time": "2025-07-13T12:12:27.599588Z",
     "start_time": "2025-07-13T12:12:27.583625Z"
    }
   },
   "cell_type": "code",
   "source": [
    "aList = [ 4,\n",
    "          6,\n",
    "          2,\n",
    "          -6,\n",
    "          [10, 20, 30],\n",
    "          'qwerty',\n",
    "          10.01 ]\n",
    "print(aList)\n",
    "\n",
    "print(aList[4][1])\n",
    "#comes from\n",
    "tmp = aList[4]\n",
    "print(tmp[1])"
   ],
   "id": "600bdf8638b3aa43",
   "outputs": [
    {
     "name": "stdout",
     "output_type": "stream",
     "text": [
      "[4, 6, 2, -6, [10, 20, 30], 'qwerty', 10.01]\n",
      "20\n",
      "20\n"
     ]
    }
   ],
   "execution_count": 14
  },
  {
   "metadata": {
    "ExecuteTime": {
     "end_time": "2025-07-13T12:14:33.855416Z",
     "start_time": "2025-07-13T12:14:33.839435Z"
    }
   },
   "cell_type": "code",
   "source": [
    "# Exercise\n",
    "listlist = [4, 'hi', [5, 4, 3], 'yo', {'Squirrel': 'cute', 'Penguin': 'Yummy'}]\n",
    "print(listlist[4]['Penguin'])"
   ],
   "id": "c68bdc1b16dd5bf2",
   "outputs": [
    {
     "name": "stdout",
     "output_type": "stream",
     "text": [
      "Yummy\n"
     ]
    }
   ],
   "execution_count": 15
  }
 ],
 "metadata": {
  "kernelspec": {
   "display_name": "Python 3",
   "language": "python",
   "name": "python3"
  },
  "language_info": {
   "codemirror_mode": {
    "name": "ipython",
    "version": 2
   },
   "file_extension": ".py",
   "mimetype": "text/x-python",
   "name": "python",
   "nbconvert_exporter": "python",
   "pygments_lexer": "ipython2",
   "version": "2.7.6"
  }
 },
 "nbformat": 4,
 "nbformat_minor": 5
}
