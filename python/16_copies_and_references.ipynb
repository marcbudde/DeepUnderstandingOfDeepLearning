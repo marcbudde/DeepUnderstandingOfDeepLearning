{
 "cells": [
  {
   "cell_type": "code",
   "id": "initial_id",
   "metadata": {
    "collapsed": true,
    "ExecuteTime": {
     "end_time": "2025-07-13T17:01:33.368167Z",
     "start_time": "2025-07-13T17:01:33.362618Z"
    }
   },
   "source": [
    "a = [ 4, 3 ]\n",
    "b = a\n",
    "\n",
    "b[0] = 5\n",
    "\n",
    "print(a)\n",
    "print(b) # b references a, nothing copied"
   ],
   "outputs": [
    {
     "name": "stdout",
     "output_type": "stream",
     "text": [
      "[5, 3]\n",
      "[5, 3]\n"
     ]
    }
   ],
   "execution_count": 2
  },
  {
   "metadata": {
    "ExecuteTime": {
     "end_time": "2025-07-13T17:02:21.173321Z",
     "start_time": "2025-07-13T17:02:21.166435Z"
    }
   },
   "cell_type": "code",
   "source": [
    "print(id(a)) # id() print address\n",
    "print(id(b))"
   ],
   "id": "8a4870f40b2e0c7",
   "outputs": [
    {
     "name": "stdout",
     "output_type": "stream",
     "text": [
      "140387899770432\n",
      "140387899770432\n"
     ]
    }
   ],
   "execution_count": 4
  },
  {
   "metadata": {
    "ExecuteTime": {
     "end_time": "2025-07-13T17:03:20.623393Z",
     "start_time": "2025-07-13T17:03:20.610229Z"
    }
   },
   "cell_type": "code",
   "source": [
    "# how to copy\n",
    "a = [ 4, 3 ]\n",
    "b = a[:]\n",
    "b[0] = 5\n",
    "\n",
    "print(a)\n",
    "print(b) # b is a copy"
   ],
   "id": "c8d125c6a5d9223b",
   "outputs": [
    {
     "name": "stdout",
     "output_type": "stream",
     "text": [
      "[4, 3]\n",
      "[5, 3]\n"
     ]
    }
   ],
   "execution_count": 8
  },
  {
   "metadata": {
    "ExecuteTime": {
     "end_time": "2025-07-13T17:05:08.453452Z",
     "start_time": "2025-07-13T17:05:08.432546Z"
    }
   },
   "cell_type": "code",
   "source": [
    "a = { 'q': 1, 'w': 2 }\n",
    "b = a\n",
    "print(id(a))\n",
    "print(id(b))\n",
    "\n",
    "# dictionary cannot be sliced\n",
    "\n",
    "import copy\n",
    "b = copy.deepcopy(a)\n",
    "print(id(a))\n",
    "print(id(b))\n",
    "b['q'] = 12\n",
    "print(a)\n",
    "print(b)"
   ],
   "id": "3966bcfd751115e6",
   "outputs": [
    {
     "name": "stdout",
     "output_type": "stream",
     "text": [
      "140387899428864\n",
      "140387899428864\n",
      "140387899428864\n",
      "140387899435648\n",
      "{'q': 1, 'w': 2}\n",
      "{'q': 12, 'w': 2}\n"
     ]
    }
   ],
   "execution_count": 11
  }
 ],
 "metadata": {
  "kernelspec": {
   "display_name": "Python 3",
   "language": "python",
   "name": "python3"
  },
  "language_info": {
   "codemirror_mode": {
    "name": "ipython",
    "version": 2
   },
   "file_extension": ".py",
   "mimetype": "text/x-python",
   "name": "python",
   "nbconvert_exporter": "python",
   "pygments_lexer": "ipython2",
   "version": "2.7.6"
  }
 },
 "nbformat": 4,
 "nbformat_minor": 5
}
