{
 "cells": [
  {
   "cell_type": "code",
   "id": "initial_id",
   "metadata": {
    "collapsed": true,
    "ExecuteTime": {
     "end_time": "2025-07-13T17:22:51.074279Z",
     "start_time": "2025-07-13T17:22:51.070245Z"
    }
   },
   "source": [
    "# class: blueprint for creating a set of attributes and methods\n",
    "# instance"
   ],
   "outputs": [],
   "execution_count": 1
  },
  {
   "metadata": {
    "ExecuteTime": {
     "end_time": "2025-07-13T17:32:18.271270Z",
     "start_time": "2025-07-13T17:32:18.251683Z"
    }
   },
   "cell_type": "code",
   "source": [
    "class model(object):\n",
    "    # constructor method\n",
    "    def __init__(self, numlayers, numunits, name):\n",
    "        self.layers = numlayers # attribute\n",
    "        self.units = numunits\n",
    "        self.name = name\n",
    "        self.weights = 1\n",
    "\n",
    "    def howManyUnits(self):\n",
    "        totalUnits = self.layers * self.units\n",
    "        print(f'There are {totalUnits} units in the model')\n",
    "\n",
    "    def trainTheModel(self, x):\n",
    "        self.weights += x\n",
    "        return self.weights\n",
    "\n",
    "    def __str__(self):\n",
    "        return f'This is a {self.name} architecture'"
   ],
   "id": "7eccd27204fcf9e9",
   "outputs": [],
   "execution_count": 19
  },
  {
   "metadata": {
    "ExecuteTime": {
     "end_time": "2025-07-13T17:32:47.826109Z",
     "start_time": "2025-07-13T17:32:47.807872Z"
    }
   },
   "cell_type": "code",
   "source": [
    "m1 = model(12, 5, 'CNN')\n",
    "m1.howManyUnits()\n",
    "print(m1.trainTheModel(2.5))\n",
    "print(m1.trainTheModel(1))\n",
    "\n",
    "str(m1)\n"
   ],
   "id": "80d81b7c89873d4b",
   "outputs": [
    {
     "name": "stdout",
     "output_type": "stream",
     "text": [
      "There are 60 units in the model\n",
      "3.5\n",
      "4.5\n"
     ]
    },
    {
     "data": {
      "text/plain": [
       "'This is a CNN architecture'"
      ]
     },
     "execution_count": 22,
     "metadata": {},
     "output_type": "execute_result"
    }
   ],
   "execution_count": 22
  },
  {
   "metadata": {
    "ExecuteTime": {
     "end_time": "2025-07-13T17:36:14.633744Z",
     "start_time": "2025-07-13T17:36:14.615181Z"
    }
   },
   "cell_type": "code",
   "source": [
    "# Exercise: Create a new class\n",
    "# 1) weights should be a random numbers matrix of size layers X units\n",
    "# 2) change the training method to multiply X and add input Y\n",
    "import numpy as np\n",
    "np.random.randn(10, 2)"
   ],
   "id": "a572e394e9a9e70b",
   "outputs": [
    {
     "data": {
      "text/plain": [
       "array([[-0.09146675,  0.22671193],\n",
       "       [-0.46020691,  1.41696396],\n",
       "       [ 1.14400662,  0.01518338],\n",
       "       [ 0.12349573,  0.23937924],\n",
       "       [ 1.25177641,  0.13138245],\n",
       "       [ 0.05251654,  0.22038161],\n",
       "       [-0.06361233, -0.19939757],\n",
       "       [ 0.74050806,  0.48761731],\n",
       "       [ 0.12434698, -1.20459874],\n",
       "       [-0.91779807,  0.49405273]])"
      ]
     },
     "execution_count": 26,
     "metadata": {},
     "output_type": "execute_result"
    }
   ],
   "execution_count": 26
  },
  {
   "metadata": {
    "ExecuteTime": {
     "end_time": "2025-07-13T17:37:08.893006Z",
     "start_time": "2025-07-13T17:37:08.872903Z"
    }
   },
   "cell_type": "code",
   "source": [
    "\n",
    "\n",
    "class MyModel(object):\n",
    "    # constructor method\n",
    "    def __init__(self, numlayers, numunits, name):\n",
    "        self.layers = numlayers # attribute\n",
    "        self.units = numunits\n",
    "        self.name = name\n",
    "        self.weights = np.random.randn(numlayers, numunits)\n",
    "\n",
    "    def how_many_units(self):\n",
    "        total_units = self.layers * self.units\n",
    "        print(f'There are {total_units} units in the model')\n",
    "\n",
    "    def train_the_model(self, x, y):\n",
    "        self.weights = self.weights * x + y\n",
    "        return self.weights\n",
    "\n",
    "    def __str__(self):\n",
    "        return f'This is a {self.name} architecture'"
   ],
   "id": "c1788213ecce75db",
   "outputs": [],
   "execution_count": 28
  },
  {
   "metadata": {
    "ExecuteTime": {
     "end_time": "2025-07-13T17:41:20.868571Z",
     "start_time": "2025-07-13T17:41:20.848702Z"
    }
   },
   "cell_type": "code",
   "source": [
    "m2 = MyModel(2, 3, 'myModel')\n",
    "str(m2)\n",
    "print(m2.weights)\n",
    "m2.train_the_model(1.5, 3)\n"
   ],
   "id": "794d5e32c17eead7",
   "outputs": [
    {
     "name": "stdout",
     "output_type": "stream",
     "text": [
      "[[-0.71089855 -1.69841121  1.19634586]\n",
      " [-1.828276    0.21098377  0.53612772]]\n"
     ]
    },
    {
     "data": {
      "text/plain": [
       "array([[1.93365217, 0.45238318, 4.79451879],\n",
       "       [0.25758599, 3.31647565, 3.80419158]])"
      ]
     },
     "execution_count": 32,
     "metadata": {},
     "output_type": "execute_result"
    }
   ],
   "execution_count": 32
  },
  {
   "metadata": {
    "ExecuteTime": {
     "end_time": "2025-07-13T17:41:30.229068Z",
     "start_time": "2025-07-13T17:41:30.192101Z"
    }
   },
   "cell_type": "code",
   "source": [
    "print(m2.weights)\n",
    "m2.train_the_model(1.5, 3)"
   ],
   "id": "9b3f8733054df9ee",
   "outputs": [
    {
     "name": "stdout",
     "output_type": "stream",
     "text": [
      "[[20.77607609 15.77679324 30.43150092]\n",
      " [15.11935273 25.44310533 27.08914659]]\n"
     ]
    },
    {
     "data": {
      "text/plain": [
       "array([[34.16411413, 26.66518987, 48.64725138],\n",
       "       [25.67902909, 41.16465799, 43.63371988]])"
      ]
     },
     "execution_count": 36,
     "metadata": {},
     "output_type": "execute_result"
    }
   ],
   "execution_count": 36
  }
 ],
 "metadata": {
  "kernelspec": {
   "display_name": "Python 3",
   "language": "python",
   "name": "python3"
  },
  "language_info": {
   "codemirror_mode": {
    "name": "ipython",
    "version": 2
   },
   "file_extension": ".py",
   "mimetype": "text/x-python",
   "name": "python",
   "nbconvert_exporter": "python",
   "pygments_lexer": "ipython2",
   "version": "2.7.6"
  }
 },
 "nbformat": 4,
 "nbformat_minor": 5
}
