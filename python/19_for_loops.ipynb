{
 "cells": [
  {
   "cell_type": "code",
   "id": "initial_id",
   "metadata": {
    "collapsed": true
   },
   "source": [
    "for i in range(6):\n",
    "    print(i)\n",
    "\n",
    "print('')\n",
    "\n",
    "for i in range(4, 11):\n",
    "    print(i, i**2)"
   ],
   "outputs": [],
   "execution_count": null
  },
  {
   "metadata": {},
   "cell_type": "code",
   "source": [
    "import numpy as np\n",
    "\n",
    "numbers = np.linspace(3, 17.1, 22)\n",
    "\n",
    "for i in range(len(numbers)):\n",
    "    x = numbers[i]\n",
    "    print('Iteration ' + str(i) + ' has a value of ' + str(x))\n"
   ],
   "id": "d084bbe0eecad6c8",
   "outputs": [],
   "execution_count": null
  },
  {
   "metadata": {},
   "cell_type": "code",
   "source": [
    "for i in numbers:\n",
    "    print(i)"
   ],
   "id": "8cf18b0335fba1",
   "outputs": [],
   "execution_count": null
  },
  {
   "metadata": {
    "ExecuteTime": {
     "end_time": "2025-07-15T21:29:41.932081Z",
     "start_time": "2025-07-15T21:29:41.920356Z"
    }
   },
   "cell_type": "code",
   "source": [
    "# embed mutliple flow-control statements\n",
    "for n in range(18):\n",
    "    if n%2 == 0:\n",
    "        print(str(n) + ' is an even number')\n",
    "    else:\n",
    "        print(str(n) + ' is an odd number')"
   ],
   "id": "3896cc076a26c5ca",
   "outputs": [
    {
     "name": "stdout",
     "output_type": "stream",
     "text": [
      "0 is an even number\n",
      "1 is an odd number\n",
      "2 is an even number\n",
      "3 is an odd number\n",
      "4 is an even number\n",
      "5 is an odd number\n",
      "6 is an even number\n",
      "7 is an odd number\n",
      "8 is an even number\n",
      "9 is an odd number\n",
      "10 is an even number\n",
      "11 is an odd number\n",
      "12 is an even number\n",
      "13 is an odd number\n",
      "14 is an even number\n",
      "15 is an odd number\n",
      "16 is an even number\n",
      "17 is an odd number\n"
     ]
    }
   ],
   "execution_count": 2
  },
  {
   "metadata": {
    "ExecuteTime": {
     "end_time": "2025-07-15T21:50:41.892578Z",
     "start_time": "2025-07-15T21:50:41.887563Z"
    }
   },
   "cell_type": "code",
   "source": [
    "# Exercise\n",
    "# Fibonacci series: [ 0, 1, 1, 2, 3, 5, 8, 13, 21, ...]\n",
    "# create a function that reports the Fib. series for input N\n",
    "def fibonacci(n):\n",
    "    if n <= 1: return 0\n",
    "    result = [ 0, 1 ]\n",
    "    if n == 2: return result\n",
    "    for i in range(2, n):\n",
    "        result.append(sum(result[i-2:]))\n",
    "    return result\n",
    "\n",
    "print(fibonacci(9))"
   ],
   "id": "285207bfbacccdc7",
   "outputs": [
    {
     "name": "stdout",
     "output_type": "stream",
     "text": [
      "[0, 1, 1, 2, 3, 5, 8, 13, 21]\n"
     ]
    }
   ],
   "execution_count": 16
  }
 ],
 "metadata": {
  "kernelspec": {
   "display_name": "Python 3",
   "language": "python",
   "name": "python3"
  },
  "language_info": {
   "codemirror_mode": {
    "name": "ipython",
    "version": 2
   },
   "file_extension": ".py",
   "mimetype": "text/x-python",
   "name": "python",
   "nbconvert_exporter": "python",
   "pygments_lexer": "ipython2",
   "version": "2.7.6"
  }
 },
 "nbformat": 4,
 "nbformat_minor": 5
}
