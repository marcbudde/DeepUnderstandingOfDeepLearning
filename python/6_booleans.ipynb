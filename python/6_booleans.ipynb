{
 "cells": [
  {
   "cell_type": "code",
   "id": "initial_id",
   "metadata": {
    "collapsed": true,
    "ExecuteTime": {
     "end_time": "2025-07-12T14:20:47.173183Z",
     "start_time": "2025-07-12T14:20:47.151447Z"
    }
   },
   "source": [
    "t = True\n",
    "f = False\n",
    "\n",
    "%whos"
   ],
   "outputs": [
    {
     "name": "stdout",
     "output_type": "stream",
     "text": [
      "Variable                        Type        Data/Info\n",
      "-----------------------------------------------------\n",
      "f                               bool        False\n",
      "pydev_jupyter_vars              module      <module 'pydev_jupyter_va<...>g/pydev_jupyter_vars.py'>\n",
      "remove_imported_pydev_package   function    <function remove_imported<...>ackage at 0x7f50c84499e0>\n",
      "sys                             module      <module 'sys' (built-in)>\n",
      "t                               bool        True\n"
     ]
    }
   ],
   "execution_count": 2
  },
  {
   "metadata": {
    "ExecuteTime": {
     "end_time": "2025-07-12T14:24:14.724929Z",
     "start_time": "2025-07-12T14:24:14.705509Z"
    }
   },
   "cell_type": "code",
   "source": [
    "print(4 == 4)\n",
    "print(4 == 4.1)\n",
    "print(4 == 4.0) # Numerically the same, although different in type\n",
    "\n",
    "test = 4 == 4\n",
    "print(test)\n",
    "\n",
    "print(4 > 5)\n",
    "print(44 > 5)\n",
    "print(7 <= 7)\n",
    "\n"
   ],
   "id": "d4a19046c07b73f",
   "outputs": [
    {
     "name": "stdout",
     "output_type": "stream",
     "text": [
      "True\n",
      "False\n",
      "True\n",
      "True\n"
     ]
    }
   ],
   "execution_count": 11
  },
  {
   "metadata": {
    "ExecuteTime": {
     "end_time": "2025-07-12T14:25:10.938325Z",
     "start_time": "2025-07-12T14:25:10.921738Z"
    }
   },
   "cell_type": "code",
   "source": [
    "print(7 != 7)\n",
    "print(7 != 8)"
   ],
   "id": "a4255f9ad325b517",
   "outputs": [
    {
     "name": "stdout",
     "output_type": "stream",
     "text": [
      "False\n",
      "True\n"
     ]
    }
   ],
   "execution_count": 14
  },
  {
   "metadata": {
    "ExecuteTime": {
     "end_time": "2025-07-12T14:28:27.158963Z",
     "start_time": "2025-07-12T14:28:27.151726Z"
    }
   },
   "cell_type": "code",
   "source": [
    "# conjunctive comparisons\n",
    "x = 10\n",
    "print(x > 5 and x < 15)\n",
    "y = 16\n",
    "print(x > 5 and y < 16)\n",
    "print(x > 5 and y > 16 and (x + y) < 50)\n",
    "\n",
    "print(x > 5 or y < 15)\n",
    "print(x < 5 or y < 15)\n"
   ],
   "id": "3e3ee1d7901e88d",
   "outputs": [
    {
     "name": "stdout",
     "output_type": "stream",
     "text": [
      "True\n",
      "False\n",
      "False\n",
      "True\n",
      "False\n"
     ]
    }
   ],
   "execution_count": 21
  },
  {
   "metadata": {
    "ExecuteTime": {
     "end_time": "2025-07-12T14:31:36.122971Z",
     "start_time": "2025-07-12T14:31:36.110397Z"
    }
   },
   "cell_type": "code",
   "source": [
    "float('5.9')\n",
    "print(bool(0))\n",
    "print(bool(-0.1))\n",
    "print(bool(0.1))\n",
    "\n",
    "print(bool('true'))\n",
    "print(bool('sdflksdj'))\n",
    "print(bool(' '))\n",
    "print(bool('')) # Empty string is false"
   ],
   "id": "24e6db7ecc0638ec",
   "outputs": [
    {
     "name": "stdout",
     "output_type": "stream",
     "text": [
      "False\n",
      "True\n",
      "True\n",
      "True\n",
      "True\n",
      "True\n",
      "False\n"
     ]
    }
   ],
   "execution_count": 27
  },
  {
   "metadata": {
    "ExecuteTime": {
     "end_time": "2025-07-12T14:35:03.753643Z",
     "start_time": "2025-07-12T14:34:54.415948Z"
    }
   },
   "cell_type": "code",
   "source": [
    "# Exercise\n",
    "# input from the user three numbers, a, b, c\n",
    "# check whether c² = a² + b²\n",
    "# print out the result\n",
    "\n",
    "# mine\n",
    "a = float(input(\"side a: \"))\n",
    "b = float(input(\"side b: \"))\n",
    "c = float(input(\"side c: \"))\n",
    "check = c**2 == a**2 + b**2\n",
    "print(check)\n",
    "\n",
    "# his\n",
    "\n"
   ],
   "id": "1a3fcda3f9191ce6",
   "outputs": [
    {
     "name": "stdout",
     "output_type": "stream",
     "text": [
      "True\n"
     ]
    }
   ],
   "execution_count": 28
  }
 ],
 "metadata": {
  "kernelspec": {
   "display_name": "Python 3",
   "language": "python",
   "name": "python3"
  },
  "language_info": {
   "codemirror_mode": {
    "name": "ipython",
    "version": 2
   },
   "file_extension": ".py",
   "mimetype": "text/x-python",
   "name": "python",
   "nbconvert_exporter": "python",
   "pygments_lexer": "ipython2",
   "version": "2.7.6"
  }
 },
 "nbformat": 4,
 "nbformat_minor": 5
}
