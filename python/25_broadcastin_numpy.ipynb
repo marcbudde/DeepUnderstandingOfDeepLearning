{
 "cells": [
  {
   "cell_type": "code",
   "id": "initial_id",
   "metadata": {
    "collapsed": true,
    "ExecuteTime": {
     "end_time": "2025-07-17T05:59:54.334898Z",
     "start_time": "2025-07-17T05:59:54.325410Z"
    }
   },
   "source": [
    "import numpy as np\n",
    "\n",
    "X = np.array([ [1, 2, 3],\n",
    "               [2, 3, 4],\n",
    "               [3, 4, 5],\n",
    "               [4, 5, 6] ])\n",
    "\n",
    "w = np.array([ 10, 20, 30 ])\n",
    "\n",
    "print(X)\n",
    "print()\n",
    "print(w)\n",
    "print()\n",
    "\n",
    "for i in range(X.shape[0]):\n",
    "    X[i,:] = X[i,:] + w\n",
    "\n",
    "print(X)"
   ],
   "outputs": [
    {
     "name": "stdout",
     "output_type": "stream",
     "text": [
      "[[1 2 3]\n",
      " [2 3 4]\n",
      " [3 4 5]\n",
      " [4 5 6]]\n",
      "\n",
      "[10 20 30]\n",
      "\n",
      "[[11 22 33]\n",
      " [12 23 34]\n",
      " [13 24 35]\n",
      " [14 25 36]]\n"
     ]
    }
   ],
   "execution_count": 4
  },
  {
   "metadata": {
    "ExecuteTime": {
     "end_time": "2025-07-17T06:01:59.748451Z",
     "start_time": "2025-07-17T06:01:59.742252Z"
    }
   },
   "cell_type": "code",
   "source": [
    "X = np.array([ [1, 2, 3],\n",
    "               [2, 3, 4],\n",
    "               [3, 4, 5],\n",
    "               [4, 5, 6] ])\n",
    "\n",
    "w = np.array([ 10, 20, 30 ])\n",
    "\n",
    "Y = np.zeros(X.shape)\n",
    "\n",
    "for i in range(X.shape[0]):\n",
    "    Y[i,:] = X[i,:] + w"
   ],
   "id": "63dcb3ae2a9705ec",
   "outputs": [],
   "execution_count": 9
  },
  {
   "metadata": {
    "ExecuteTime": {
     "end_time": "2025-07-17T06:12:27.460229Z",
     "start_time": "2025-07-17T06:12:27.452188Z"
    }
   },
   "cell_type": "code",
   "source": [
    "X = np.array([ [1, 2, 3],\n",
    "               [2, 3, 4],\n",
    "               [3, 4, 5],\n",
    "               [4, 5, 6] ])\n",
    "\n",
    "w = np.array([ [ 10, 20, 30 ] ])\n",
    "v = np.array([ [ 10, 20, 30, 40 ] ]).T\n",
    "\n",
    "# broadcasting\n",
    "# Mathematically illegal operation\n",
    "Y = X + w\n",
    "Z = X + v\n",
    "\n",
    "print(w)\n",
    "print()\n",
    "print(Y)\n",
    "print()\n",
    "print(Z)\n",
    "print()"
   ],
   "id": "213639cfdd3947c",
   "outputs": [
    {
     "name": "stdout",
     "output_type": "stream",
     "text": [
      "[[10 20 30]]\n",
      "\n",
      "[[11 22 33]\n",
      " [12 23 34]\n",
      " [13 24 35]\n",
      " [14 25 36]]\n",
      "\n",
      "[[11 12 13]\n",
      " [22 23 24]\n",
      " [33 34 35]\n",
      " [44 45 46]]\n",
      "\n"
     ]
    }
   ],
   "execution_count": 20
  },
  {
   "metadata": {
    "ExecuteTime": {
     "end_time": "2025-07-17T06:22:52.255622Z",
     "start_time": "2025-07-17T06:22:52.247304Z"
    }
   },
   "cell_type": "code",
   "source": [
    "# Exercise:\n",
    "# 1) create vector of integers 0:8 (v)\n",
    "# 2) reshape v into 3X3 matrix (M) (np.reshape)\n",
    "# 3) repeat M into a 9 X 3 (C) (np.tile)\n",
    "# 4) broadcast-multiply C with v (B)\n",
    "\n",
    "v = np.array(range(9), ndmin=2)\n",
    "M = np.reshape(v, (3, 3))\n",
    "C = np.tile(M, (3, 1))\n",
    "B = C * v.T\n",
    "B"
   ],
   "id": "e34c0e68ec0dd3ce",
   "outputs": [
    {
     "data": {
      "text/plain": [
       "array([[ 0,  0,  0],\n",
       "       [ 3,  4,  5],\n",
       "       [12, 14, 16],\n",
       "       [ 0,  3,  6],\n",
       "       [12, 16, 20],\n",
       "       [30, 35, 40],\n",
       "       [ 0,  6, 12],\n",
       "       [21, 28, 35],\n",
       "       [48, 56, 64]])"
      ]
     },
     "execution_count": 31,
     "metadata": {},
     "output_type": "execute_result"
    }
   ],
   "execution_count": 31
  }
 ],
 "metadata": {
  "kernelspec": {
   "display_name": "Python 3",
   "language": "python",
   "name": "python3"
  },
  "language_info": {
   "codemirror_mode": {
    "name": "ipython",
    "version": 2
   },
   "file_extension": ".py",
   "mimetype": "text/x-python",
   "name": "python",
   "nbconvert_exporter": "python",
   "pygments_lexer": "ipython2",
   "version": "2.7.6"
  }
 },
 "nbformat": 4,
 "nbformat_minor": 5
}
