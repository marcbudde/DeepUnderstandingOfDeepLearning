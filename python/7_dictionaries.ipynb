{
 "cells": [
  {
   "cell_type": "code",
   "id": "initial_id",
   "metadata": {
    "collapsed": true,
    "ExecuteTime": {
     "end_time": "2025-07-13T10:29:53.253693Z",
     "start_time": "2025-07-13T10:29:53.236609Z"
    }
   },
   "source": [
    "D = dict()\n",
    "D"
   ],
   "outputs": [
    {
     "data": {
      "text/plain": [
       "{}"
      ]
     },
     "execution_count": 2,
     "metadata": {},
     "output_type": "execute_result"
    }
   ],
   "execution_count": 2
  },
  {
   "metadata": {
    "ExecuteTime": {
     "end_time": "2025-07-13T10:32:09.783454Z",
     "start_time": "2025-07-13T10:32:09.766583Z"
    }
   },
   "cell_type": "code",
   "source": [
    "D['name'] = 'Marc'\n",
    "D['ageRange'] = [20, 50]\n",
    "\n",
    "D\n",
    "# Dictionaries are not ordered"
   ],
   "id": "18ce011a8f13af07",
   "outputs": [
    {
     "data": {
      "text/plain": [
       "{'name': 'Marc', 'ageRange': [20, 50]}"
      ]
     },
     "execution_count": 7,
     "metadata": {},
     "output_type": "execute_result"
    }
   ],
   "execution_count": 7
  },
  {
   "metadata": {
    "ExecuteTime": {
     "end_time": "2025-07-13T10:34:28.129166Z",
     "start_time": "2025-07-13T10:34:28.104712Z"
    }
   },
   "cell_type": "code",
   "source": [
    "E = { 'name': 'Marc', 'ageRange': [20, 50], 'FavColor': 'blue' }\n",
    "print(E)\n",
    "\n",
    "print(E['ageRange'])\n",
    "\n",
    "print(E.keys())"
   ],
   "id": "5281aa5f4287303a",
   "outputs": [
    {
     "name": "stdout",
     "output_type": "stream",
     "text": [
      "{'name': 'Marc', 'ageRange': [20, 50], 'FavColor': 'blue'}\n",
      "[20, 50]\n",
      "dict_keys(['name', 'ageRange', 'FavColor'])\n"
     ]
    }
   ],
   "execution_count": 13
  },
  {
   "metadata": {
    "ExecuteTime": {
     "end_time": "2025-07-13T10:35:19.879447Z",
     "start_time": "2025-07-13T10:35:19.861327Z"
    }
   },
   "cell_type": "code",
   "source": [
    "print('name' in E)\n",
    "# Looks for keys\n",
    "print('Marc' in E)"
   ],
   "id": "5bb60ecb5c44d9e8",
   "outputs": [
    {
     "name": "stdout",
     "output_type": "stream",
     "text": [
      "True\n",
      "False\n"
     ]
    }
   ],
   "execution_count": 16
  },
  {
   "metadata": {
    "ExecuteTime": {
     "end_time": "2025-07-13T10:35:32.060844Z",
     "start_time": "2025-07-13T10:35:32.056925Z"
    }
   },
   "cell_type": "code",
   "source": "print(E.values())",
   "id": "51b85a73f25f2c8b",
   "outputs": [
    {
     "name": "stdout",
     "output_type": "stream",
     "text": [
      "dict_values(['Marc', [20, 50], 'blue'])\n"
     ]
    }
   ],
   "execution_count": 18
  },
  {
   "metadata": {
    "ExecuteTime": {
     "end_time": "2025-07-13T10:35:58.758909Z",
     "start_time": "2025-07-13T10:35:58.753313Z"
    }
   },
   "cell_type": "code",
   "source": "print(E.items())",
   "id": "8d6aa7c746aa86f4",
   "outputs": [
    {
     "name": "stdout",
     "output_type": "stream",
     "text": [
      "dict_items([('name', 'Marc'), ('ageRange', [20, 50]), ('FavColor', 'blue')])\n"
     ]
    }
   ],
   "execution_count": 21
  },
  {
   "metadata": {
    "ExecuteTime": {
     "end_time": "2025-07-13T10:40:27.127835Z",
     "start_time": "2025-07-13T10:40:18.368915Z"
    }
   },
   "cell_type": "code",
   "source": [
    "# Exercise\n",
    "# 1) input 2 numbers from the user\n",
    "# 2) create a dictionary with three keys: 'firstNum', 'secondNum', 'product'\n",
    "myDict = dict()\n",
    "myDict['firstNum'] = float(input(\"First number: \"))\n",
    "myDict['secondNum'] = float(input(\"Second number: \"))\n",
    "myDict['product'] = myDict['firstNum'] * myDict['secondNum']\n",
    "print(myDict)"
   ],
   "id": "f9acf9e8d39198b1",
   "outputs": [
    {
     "name": "stdout",
     "output_type": "stream",
     "text": [
      "{'firstNum': 5.1, 'secondNum': 34.0, 'product': 173.39999999999998}\n"
     ]
    }
   ],
   "execution_count": 22
  }
 ],
 "metadata": {
  "kernelspec": {
   "display_name": "Python 3",
   "language": "python",
   "name": "python3"
  },
  "language_info": {
   "codemirror_mode": {
    "name": "ipython",
    "version": 2
   },
   "file_extension": ".py",
   "mimetype": "text/x-python",
   "name": "python",
   "nbconvert_exporter": "python",
   "pygments_lexer": "ipython2",
   "version": "2.7.6"
  }
 },
 "nbformat": 4,
 "nbformat_minor": 5
}
