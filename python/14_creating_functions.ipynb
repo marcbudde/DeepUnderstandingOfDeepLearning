{
 "cells": [
  {
   "cell_type": "code",
   "id": "initial_id",
   "metadata": {
    "collapsed": true,
    "ExecuteTime": {
     "end_time": "2025-07-13T15:48:52.078164Z",
     "start_time": "2025-07-13T15:48:52.064793Z"
    }
   },
   "source": [
    "from sympy.abc import lamda\n",
    "\n",
    "\n",
    "def awesomeFunction():\n",
    "    print(1 + 1)\n",
    "\n",
    "print('hi') # outside of function"
   ],
   "outputs": [
    {
     "name": "stdout",
     "output_type": "stream",
     "text": [
      "hi\n"
     ]
    }
   ],
   "execution_count": 5
  },
  {
   "metadata": {
    "ExecuteTime": {
     "end_time": "2025-07-13T15:48:53.503161Z",
     "start_time": "2025-07-13T15:48:53.474070Z"
    }
   },
   "cell_type": "code",
   "source": "awesomeFunction()",
   "id": "333286afffc05441",
   "outputs": [
    {
     "name": "stdout",
     "output_type": "stream",
     "text": [
      "2\n"
     ]
    }
   ],
   "execution_count": 6
  },
  {
   "metadata": {
    "ExecuteTime": {
     "end_time": "2025-07-13T15:49:43.702954Z",
     "start_time": "2025-07-13T15:49:43.697922Z"
    }
   },
   "cell_type": "code",
   "source": [
    "def superAwesomeFunction(input1, input2):\n",
    "    print(input1 + input2)"
   ],
   "id": "76a3b532e8820b22",
   "outputs": [],
   "execution_count": 7
  },
  {
   "metadata": {
    "ExecuteTime": {
     "end_time": "2025-07-13T15:49:51.234558Z",
     "start_time": "2025-07-13T15:49:51.219680Z"
    }
   },
   "cell_type": "code",
   "source": "superAwesomeFunction(5, 3)",
   "id": "5bfaf043c8f66402",
   "outputs": [
    {
     "name": "stdout",
     "output_type": "stream",
     "text": [
      "8\n"
     ]
    }
   ],
   "execution_count": 8
  },
  {
   "metadata": {
    "ExecuteTime": {
     "end_time": "2025-07-13T15:51:10.748473Z",
     "start_time": "2025-07-13T15:51:10.744446Z"
    }
   },
   "cell_type": "code",
   "source": [
    "def superAwesomeFunction(input1, input2):\n",
    "    return input1 + input2"
   ],
   "id": "a08881efa9f954c6",
   "outputs": [],
   "execution_count": 9
  },
  {
   "metadata": {
    "ExecuteTime": {
     "end_time": "2025-07-13T15:52:44.864710Z",
     "start_time": "2025-07-13T15:52:44.859316Z"
    }
   },
   "cell_type": "code",
   "source": [
    "result = superAwesomeFunction(5, 3)\n",
    "print(result)"
   ],
   "id": "dbe60fd7aa26ed36",
   "outputs": [
    {
     "name": "stdout",
     "output_type": "stream",
     "text": [
      "8\n"
     ]
    }
   ],
   "execution_count": 12
  },
  {
   "metadata": {
    "ExecuteTime": {
     "end_time": "2025-07-13T15:53:38.631608Z",
     "start_time": "2025-07-13T15:53:38.619995Z"
    }
   },
   "cell_type": "code",
   "source": [
    "def multipleOutputFunction(input1, input2):\n",
    "    prod = input1 * input2\n",
    "    sum = input1 + input2\n",
    "    return prod, sum # return a tuple"
   ],
   "id": "6b7af39b5f4560db",
   "outputs": [],
   "execution_count": 13
  },
  {
   "metadata": {
    "ExecuteTime": {
     "end_time": "2025-07-13T15:55:56.148029Z",
     "start_time": "2025-07-13T15:55:56.125484Z"
    }
   },
   "cell_type": "code",
   "source": [
    "result = multipleOutputFunction(10, -7)\n",
    "print(result)\n",
    "\n",
    "prod,mySum = multipleOutputFunction(1, 7)\n",
    "print(prod)\n",
    "print(mySum)"
   ],
   "id": "223f4a3b8f77dbe0",
   "outputs": [
    {
     "name": "stdout",
     "output_type": "stream",
     "text": [
      "(-70, 3)\n",
      "7\n",
      "8\n"
     ]
    }
   ],
   "execution_count": 16
  },
  {
   "metadata": {
    "ExecuteTime": {
     "end_time": "2025-07-13T15:58:33.434785Z",
     "start_time": "2025-07-13T15:58:33.427688Z"
    }
   },
   "cell_type": "code",
   "source": [
    "# lambda function\n",
    "funname = lambda x : x**2 - 1\n",
    "funname(2)"
   ],
   "id": "65c449edd2339144",
   "outputs": [
    {
     "data": {
      "text/plain": [
       "3"
      ]
     },
     "execution_count": 19,
     "metadata": {},
     "output_type": "execute_result"
    }
   ],
   "execution_count": 19
  },
  {
   "metadata": {
    "ExecuteTime": {
     "end_time": "2025-07-13T16:05:40.326811Z",
     "start_time": "2025-07-13T16:05:40.316768Z"
    }
   },
   "cell_type": "code",
   "source": [
    "import numpy as np\n",
    "import math as m\n",
    "\n",
    "# Exercise: Create a function that computes a factorial\n",
    "# 4!\n",
    "def factorial(num):\n",
    "    return np.array(range(1, num + 1)).prod()\n",
    "\n",
    "print(factorial(4) == m.factorial(4))\n",
    "print(factorial(5) == m.factorial(5))\n",
    "print(factorial(6) == m.factorial(6))\n",
    "print(factorial(13) == m.factorial(13))"
   ],
   "id": "f7eebdb5ab990b0",
   "outputs": [
    {
     "name": "stdout",
     "output_type": "stream",
     "text": [
      "True\n",
      "True\n",
      "True\n",
      "True\n"
     ]
    }
   ],
   "execution_count": 28
  }
 ],
 "metadata": {
  "kernelspec": {
   "display_name": "Python 3",
   "language": "python",
   "name": "python3"
  },
  "language_info": {
   "codemirror_mode": {
    "name": "ipython",
    "version": 2
   },
   "file_extension": ".py",
   "mimetype": "text/x-python",
   "name": "python",
   "nbconvert_exporter": "python",
   "pygments_lexer": "ipython2",
   "version": "2.7.6"
  }
 },
 "nbformat": 4,
 "nbformat_minor": 5
}
