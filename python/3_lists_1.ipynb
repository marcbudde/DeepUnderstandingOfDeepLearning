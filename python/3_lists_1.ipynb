{
 "cells": [
  {
   "cell_type": "code",
   "id": "initial_id",
   "metadata": {
    "collapsed": true,
    "ExecuteTime": {
     "end_time": "2025-07-12T11:43:23.939078Z",
     "start_time": "2025-07-12T11:43:23.918989Z"
    }
   },
   "source": [
    "# list\n",
    "aList = [ 4,5,6,2,0,3 ]\n",
    "strList = [ 'hi', 'my', 'name', 'is', 'Mike']\n",
    "mixList = [ 8, 5.01, 'test', 50.1 ]\n",
    "listList = [ 1, 2, 3, 'hi', 'bye', [ .5, 1/4, 'i' ], 5, 6, 3]\n",
    "\n",
    "print(aList)\n",
    "print(type(aList))\n",
    "print(type(strList))\n",
    "print(type(mixList))\n",
    "print(mixList)\n",
    "print(listList)"
   ],
   "outputs": [
    {
     "name": "stdout",
     "output_type": "stream",
     "text": [
      "[4, 5, 6, 2, 0, 3]\n",
      "<class 'list'>\n",
      "<class 'list'>\n",
      "<class 'list'>\n",
      "[8, 5.01, 'test', 50.1]\n",
      "[1, 2, 3, 'hi', 'bye', [0.5, 0.25, 'i'], 5, 6, 3]\n"
     ]
    }
   ],
   "execution_count": 9
  },
  {
   "metadata": {
    "ExecuteTime": {
     "end_time": "2025-07-12T11:45:09.539655Z",
     "start_time": "2025-07-12T11:45:09.515912Z"
    }
   },
   "cell_type": "code",
   "source": [
    "# Better readability - \\ not necessary inside brackets\n",
    "listList = [ 1,                 # a number\n",
    "             2,                 # parameter for\n",
    "             3,\n",
    "             'hi',              # fourth element\n",
    "             'bye',\n",
    "             [ .5, 1/4, 'i' ],\n",
    "             5,\n",
    "             6,\n",
    "             3\n",
    "]\n",
    "listList"
   ],
   "id": "aa06741b5ae35070",
   "outputs": [
    {
     "data": {
      "text/plain": [
       "[1, 2, 3, 'hi', 'bye', [0.5, 0.25, 'i'], 5, 6, 3]"
      ]
     },
     "execution_count": 13,
     "metadata": {},
     "output_type": "execute_result"
    }
   ],
   "execution_count": 13
  },
  {
   "metadata": {
    "ExecuteTime": {
     "end_time": "2025-07-12T11:46:39.954111Z",
     "start_time": "2025-07-12T11:46:39.948232Z"
    }
   },
   "cell_type": "code",
   "source": [
    "print(4 in aList)\n",
    "print(40 in aList)\n",
    "print(40 not in aList)\n"
   ],
   "id": "5117d955c32c150e",
   "outputs": [
    {
     "name": "stdout",
     "output_type": "stream",
     "text": [
      "True\n",
      "False\n",
      "True\n"
     ]
    }
   ],
   "execution_count": 17
  },
  {
   "metadata": {
    "ExecuteTime": {
     "end_time": "2025-07-12T11:48:27.812063Z",
     "start_time": "2025-07-12T11:48:27.781317Z"
    }
   },
   "cell_type": "code",
   "source": [
    "print(aList + strList)\n",
    "# Elements are not multiplied, list is repeated\n",
    "print(strList * 3)"
   ],
   "id": "a964cf77347e031e",
   "outputs": [
    {
     "name": "stdout",
     "output_type": "stream",
     "text": [
      "[4, 5, 6, 2, 0, 3, 'hi', 'my', 'name', 'is', 'Mike']\n",
      "['hi', 'my', 'name', 'is', 'Mike', 'hi', 'my', 'name', 'is', 'Mike', 'hi', 'my', 'name', 'is', 'Mike']\n"
     ]
    }
   ],
   "execution_count": 21
  },
  {
   "metadata": {
    "ExecuteTime": {
     "end_time": "2025-07-12T11:49:32.359171Z",
     "start_time": "2025-07-12T11:49:32.352145Z"
    }
   },
   "cell_type": "code",
   "source": [
    "# method\n",
    "print(aList)\n",
    "type(aList)\n",
    "\n",
    "aList.append(-100)\n",
    "print(aList)"
   ],
   "id": "ac2b0e68aa4eb76d",
   "outputs": [
    {
     "name": "stdout",
     "output_type": "stream",
     "text": [
      "[4, 5, 6, 2, 0, 3, -100]\n",
      "[4, 5, 6, 2, 0, 3, -100, -100]\n"
     ]
    }
   ],
   "execution_count": 23
  },
  {
   "metadata": {
    "ExecuteTime": {
     "end_time": "2025-07-12T11:50:01.546829Z",
     "start_time": "2025-07-12T11:50:01.540279Z"
    }
   },
   "cell_type": "code",
   "source": [
    "# method\n",
    "print(aList)\n",
    "type(aList)\n",
    "# Another -100\n",
    "aList.append(-100)\n",
    "print(aList)"
   ],
   "id": "f56f1c1ab3ca189b",
   "outputs": [
    {
     "name": "stdout",
     "output_type": "stream",
     "text": [
      "[4, 5, 6, 2, 0, 3, -100, -100, -100]\n",
      "[4, 5, 6, 2, 0, 3, -100, -100, -100, -100]\n"
     ]
    }
   ],
   "execution_count": 25
  },
  {
   "metadata": {
    "ExecuteTime": {
     "end_time": "2025-07-12T11:50:47.532303Z",
     "start_time": "2025-07-12T11:50:47.519160Z"
    }
   },
   "cell_type": "code",
   "source": [
    "print(aList)\n",
    "aList.sort()\n",
    "print(aList)"
   ],
   "id": "df87b307f851f462",
   "outputs": [
    {
     "name": "stdout",
     "output_type": "stream",
     "text": [
      "[-100, -100, -100, -100, 0, 2, 3, 4, 5, 6]\n",
      "[-100, -100, -100, -100, 0, 2, 3, 4, 5, 6]\n"
     ]
    }
   ],
   "execution_count": 27
  },
  {
   "metadata": {
    "ExecuteTime": {
     "end_time": "2025-07-12T11:51:29.998746Z",
     "start_time": "2025-07-12T11:51:29.981630Z"
    }
   },
   "cell_type": "code",
   "source": [
    "# Exercise\n",
    "# Use a list method to finde the number of -100s in a list\n",
    "print(aList.count(-100))"
   ],
   "id": "88f02801724a898",
   "outputs": [
    {
     "name": "stdout",
     "output_type": "stream",
     "text": [
      "4\n"
     ]
    }
   ],
   "execution_count": 28
  }
 ],
 "metadata": {
  "kernelspec": {
   "display_name": "Python 3",
   "language": "python",
   "name": "python3"
  },
  "language_info": {
   "codemirror_mode": {
    "name": "ipython",
    "version": 2
   },
   "file_extension": ".py",
   "mimetype": "text/x-python",
   "name": "python",
   "nbconvert_exporter": "python",
   "pygments_lexer": "ipython2",
   "version": "2.7.6"
  }
 },
 "nbformat": 4,
 "nbformat_minor": 5
}
