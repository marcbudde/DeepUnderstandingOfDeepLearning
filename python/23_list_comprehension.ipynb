{
 "cells": [
  {
   "cell_type": "code",
   "id": "initial_id",
   "metadata": {
    "collapsed": true,
    "ExecuteTime": {
     "end_time": "2025-07-16T06:11:46.277889Z",
     "start_time": "2025-07-16T06:11:46.270997Z"
    }
   },
   "source": [
    "import random\n",
    "\n",
    "r = random.randint(1, 10)\n",
    "\n",
    "# remember\n",
    "print('r is large') if r > 5 else print('r is small')\n",
    "print()\n",
    "\n",
    "for i in range(10):\n",
    "    print(i ** 2)\n",
    "print()\n",
    "\n",
    "# list comprehension output by print, is an expression, meaning returns a list value\n",
    "[ print(i ** 2) for i in range(10) ]\n",
    "print()\n",
    "# Create List by using transform expression\n",
    "lst = [ i ** 2 for i in range(10) ]\n",
    "\n",
    "# Use for small computations, because it can become difficult to read quickly\n",
    "lst = [ i ** 2 for i in range(10) if i > 5 ]\n",
    "\n",
    "print(lst)"
   ],
   "outputs": [
    {
     "name": "stdout",
     "output_type": "stream",
     "text": [
      "r is large\n",
      "\n",
      "0\n",
      "1\n",
      "4\n",
      "9\n",
      "16\n",
      "25\n",
      "36\n",
      "49\n",
      "64\n",
      "81\n",
      "\n",
      "0\n",
      "1\n",
      "4\n",
      "9\n",
      "16\n",
      "25\n",
      "36\n",
      "49\n",
      "64\n",
      "81\n",
      "\n",
      "[36, 49, 64, 81]\n"
     ]
    }
   ],
   "execution_count": 44
  },
  {
   "metadata": {
    "ExecuteTime": {
     "end_time": "2025-07-16T06:16:38.518819Z",
     "start_time": "2025-07-16T06:16:38.494994Z"
    }
   },
   "cell_type": "code",
   "source": [
    "# Exercise: convert the following loops into single line list comprehension loops\n",
    "\n",
    "text = ['Promising', 'Yes', 'that', 'home', 'on', 'Nobb']\n",
    "\n",
    "for word in text:\n",
    "    print(word[0])\n",
    "print()\n",
    "##\n",
    "[ print(word[0]) for word in text ]"
   ],
   "id": "927cc6b944b8f767",
   "outputs": [
    {
     "name": "stdout",
     "output_type": "stream",
     "text": [
      "P\n",
      "Y\n",
      "t\n",
      "h\n",
      "o\n",
      "N\n",
      "\n",
      "P\n",
      "Y\n",
      "t\n",
      "h\n",
      "o\n",
      "N\n"
     ]
    },
    {
     "data": {
      "text/plain": [
       "[None, None, None, None, None, None]"
      ]
     },
     "execution_count": 47,
     "metadata": {},
     "output_type": "execute_result"
    }
   ],
   "execution_count": 47
  },
  {
   "metadata": {
    "ExecuteTime": {
     "end_time": "2025-07-16T06:18:34.862303Z",
     "start_time": "2025-07-16T06:18:34.849782Z"
    }
   },
   "cell_type": "code",
   "source": [
    "newlist = [''] * 10\n",
    "for i in range(10):\n",
    "    if i%2==1:\n",
    "        newlist[i] = 'Odd'\n",
    "    else:\n",
    "        newlist[i] = i\n",
    "\n",
    "print()\n",
    "##\n",
    "[ ('Odd' if i%2==1 else i) for i in range(10) ]"
   ],
   "id": "5b3244906d937f8e",
   "outputs": [
    {
     "name": "stdout",
     "output_type": "stream",
     "text": [
      "\n"
     ]
    },
    {
     "data": {
      "text/plain": [
       "[0, 'Odd', 2, 'Odd', 4, 'Odd', 6, 'Odd', 8, 'Odd']"
      ]
     },
     "execution_count": 52,
     "metadata": {},
     "output_type": "execute_result"
    }
   ],
   "execution_count": 52
  },
  {
   "metadata": {
    "ExecuteTime": {
     "end_time": "2025-07-16T06:20:24.650311Z",
     "start_time": "2025-07-16T06:20:24.528324Z"
    }
   },
   "cell_type": "code",
   "source": [
    "import numpy as np\n",
    "\n",
    "x1 = np.linspace(-3, 3, 11)\n",
    "y1 = x1 ** 2\n",
    "\n",
    "print(x1)\n",
    "print(y1)\n",
    "\n",
    "print()\n",
    "##\n",
    "print([  ])\n",
    "\n"
   ],
   "id": "2d6a6a3aecce4cbe",
   "outputs": [
    {
     "name": "stdout",
     "output_type": "stream",
     "text": [
      "[-3.  -2.4 -1.8 -1.2 -0.6  0.   0.6  1.2  1.8  2.4  3. ]\n",
      "[9.   5.76 3.24 1.44 0.36 0.   0.36 1.44 3.24 5.76 9.  ]\n",
      "\n",
      "[]\n"
     ]
    }
   ],
   "execution_count": 53
  }
 ],
 "metadata": {
  "kernelspec": {
   "display_name": "Python 3",
   "language": "python",
   "name": "python3"
  },
  "language_info": {
   "codemirror_mode": {
    "name": "ipython",
    "version": 2
   },
   "file_extension": ".py",
   "mimetype": "text/x-python",
   "name": "python",
   "nbconvert_exporter": "python",
   "pygments_lexer": "ipython2",
   "version": "2.7.6"
  }
 },
 "nbformat": 4,
 "nbformat_minor": 5
}
