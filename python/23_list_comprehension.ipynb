{
 "cells": [
  {
   "cell_type": "code",
   "id": "initial_id",
   "metadata": {
    "collapsed": true
   },
   "source": [
    "import random\n",
    "\n",
    "r = random.randint(1, 10)\n",
    "\n",
    "# remember\n",
    "print('r is large') if r > 5 else print('r is small')\n",
    "print()\n",
    "\n",
    "for i in range(10):\n",
    "    print(i ** 2)\n",
    "print()\n",
    "\n",
    "# list comprehension output by print, is an expression, meaning returns a list value\n",
    "[ print(i ** 2) for i in range(10) ]\n",
    "print()\n",
    "# Create List by using transform expression\n",
    "lst = [ i ** 2 for i in range(10) ]\n",
    "\n",
    "# Use for small computations, because it can become difficult to read quickly\n",
    "lst = [ i ** 2 for i in range(10) if i > 5 ]\n",
    "\n",
    "print(lst)"
   ],
   "outputs": [],
   "execution_count": null
  },
  {
   "metadata": {},
   "cell_type": "code",
   "source": [
    "# Exercise: convert the following loops into single line list comprehension loops\n",
    "\n",
    "text = ['Promising', 'Yes', 'that', 'home', 'on', 'Nobb']\n",
    "\n",
    "for word in text:\n",
    "    print(word[0])\n",
    "print()\n",
    "##\n",
    "[ print(word[0]) for word in text ]; # ; prevents notebook from printing last line"
   ],
   "id": "927cc6b944b8f767",
   "outputs": [],
   "execution_count": null
  },
  {
   "metadata": {
    "ExecuteTime": {
     "end_time": "2025-07-16T16:55:06.123684Z",
     "start_time": "2025-07-16T16:55:06.099689Z"
    }
   },
   "cell_type": "code",
   "source": [
    "newlist = [''] * 10\n",
    "for i in range(10):\n",
    "    if i % 2 == 1:\n",
    "        newlist[i] = 'Odd'\n",
    "    else:\n",
    "        newlist[i] = i\n",
    "\n",
    "print()\n",
    "##\n",
    "[ ('Odd' if i % 2 == 1 else i) for i in range(10) ];"
   ],
   "id": "5b3244906d937f8e",
   "outputs": [
    {
     "name": "stdout",
     "output_type": "stream",
     "text": [
      "\n"
     ]
    }
   ],
   "execution_count": 9
  },
  {
   "metadata": {},
   "cell_type": "code",
   "source": [
    "import numpy as np\n",
    "\n",
    "x1 = np.linspace(-3, 3, 11)\n",
    "y1 = x1 ** 2\n",
    "print(x1)\n",
    "print(y1)\n",
    "\n",
    "print()\n",
    "##\n",
    "x2 = [ round(-3 + i * 0.6, 2) for i in range(11) ]\n",
    "y2 = [ i ** 2 for i in x2 ]\n",
    "print(x2)\n",
    "print(y2)\n",
    "\n"
   ],
   "id": "2d6a6a3aecce4cbe",
   "outputs": [],
   "execution_count": null
  }
 ],
 "metadata": {
  "kernelspec": {
   "display_name": "Python 3",
   "language": "python",
   "name": "python3"
  },
  "language_info": {
   "codemirror_mode": {
    "name": "ipython",
    "version": 2
   },
   "file_extension": ".py",
   "mimetype": "text/x-python",
   "name": "python",
   "nbconvert_exporter": "python",
   "pygments_lexer": "ipython2",
   "version": "2.7.6"
  }
 },
 "nbformat": 4,
 "nbformat_minor": 5
}
